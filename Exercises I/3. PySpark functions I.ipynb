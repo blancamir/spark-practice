{
 "cells": [
  {
   "source": [
    "## Fuctions: select(), groupyBy()\n",
    "\n",
    "## Types"
   ],
   "cell_type": "markdown",
   "metadata": {}
  },
  {
   "cell_type": "code",
   "execution_count": 18,
   "metadata": {},
   "outputs": [],
   "source": [
    "#Initialize pyspark\n",
    "\n",
    "import findspark\n",
    "findspark.init()\n",
    "\n",
    "import pyspark"
   ]
  },
  {
   "cell_type": "code",
   "execution_count": 19,
   "metadata": {},
   "outputs": [],
   "source": [
    "#Create a SparkSession\n",
    "\n",
    "from pyspark.sql import SparkSession\n",
    "spark = SparkSession.builder.appName(\"CSV to Dataset\").getOrCreate()"
   ]
  },
  {
   "cell_type": "code",
   "execution_count": 20,
   "metadata": {},
   "outputs": [
    {
     "name": "stdout",
     "output_type": "stream",
     "text": [
      "root\n",
      " |-- ident: string (nullable = true)\n",
      " |-- category: string (nullable = true)\n",
      " |-- name: string (nullable = true)\n",
      " |-- latitude_deg: string (nullable = true)\n",
      " |-- longitude_deg: string (nullable = true)\n",
      " |-- elevation_ft: string (nullable = true)\n",
      " |-- continent: string (nullable = true)\n",
      " |-- iso_country: string (nullable = true)\n",
      " |-- iso_region: string (nullable = true)\n",
      " |-- municipality: string (nullable = true)\n",
      " |-- gps_code: string (nullable = true)\n",
      " |-- iata_code: string (nullable = true)\n",
      " |-- local_code: string (nullable = true)\n",
      "\n"
     ]
    }
   ],
   "source": [
    "#Create a DataFrame form csv file, csv() method of DatafRameReader\n",
    "\n",
    "data = spark.read.options(header='True').csv('C:/Users/usuario/Documents/Blanca/Spark/data/airport_codes.csv')\n",
    "data.printSchema()"
   ]
  },
  {
   "cell_type": "markdown",
   "metadata": {},
   "source": [
    "### select()"
   ]
  },
  {
   "cell_type": "code",
   "execution_count": 21,
   "metadata": {},
   "outputs": [
    {
     "name": "stdout",
     "output_type": "stream",
     "text": [
      "+--------------------+\n",
      "|                name|\n",
      "+--------------------+\n",
      "|   Total Rf Heliport|\n",
      "|        Lowell Field|\n",
      "|        Epps Airpark|\n",
      "|Newport Hospital ...|\n",
      "|      Cordes Airport|\n",
      "|Goldstone /Gts/ A...|\n",
      "|          Cass Field|\n",
      "| Grass Patch Airport|\n",
      "|  Ringhaver Heliport|\n",
      "|   River Oak Airport|\n",
      "+--------------------+\n",
      "only showing top 10 rows\n",
      "\n"
     ]
    }
   ],
   "source": [
    "#Select a single column\n",
    "\n",
    "data.select('name').show(10)"
   ]
  },
  {
   "cell_type": "code",
   "execution_count": 22,
   "metadata": {},
   "outputs": [
    {
     "name": "stdout",
     "output_type": "stream",
     "text": [
      "+-----+--------------------+-------------+\n",
      "|ident|                name|     category|\n",
      "+-----+--------------------+-------------+\n",
      "|  00A|   Total Rf Heliport|     heliport|\n",
      "| 00AK|        Lowell Field|small_airport|\n",
      "| 00AL|        Epps Airpark|small_airport|\n",
      "| 00AR|Newport Hospital ...|     heliport|\n",
      "| 00AZ|      Cordes Airport|small_airport|\n",
      "| 00CA|Goldstone /Gts/ A...|small_airport|\n",
      "| 00CO|          Cass Field|small_airport|\n",
      "| 00FA| Grass Patch Airport|small_airport|\n",
      "| 00FD|  Ringhaver Heliport|     heliport|\n",
      "| 00FL|   River Oak Airport|small_airport|\n",
      "+-----+--------------------+-------------+\n",
      "only showing top 10 rows\n",
      "\n"
     ]
    }
   ],
   "source": [
    "#Select 2 or more columns\n",
    "\n",
    "data.select('ident', 'name', 'category').show(10)"
   ]
  },
  {
   "cell_type": "markdown",
   "metadata": {},
   "source": [
    "### groupBy()"
   ]
  },
  {
   "cell_type": "code",
   "execution_count": 8,
   "metadata": {},
   "outputs": [
    {
     "name": "stdout",
     "output_type": "stream",
     "text": [
      "+--------------+----------+-----+\n",
      "|category      |iso_region|count|\n",
      "+--------------+----------+-----+\n",
      "|small_airport |BG-09     |1    |\n",
      "|small_airport |BF-YAT    |2    |\n",
      "|heliport      |NO-18     |1    |\n",
      "|small_airport |SE-M      |9    |\n",
      "|small_airport |LV-TA     |1    |\n",
      "|small_airport |LT-TE     |2    |\n",
      "|small_airport |ZW-MC     |7    |\n",
      "|small_airport |GN-NZ     |1    |\n",
      "|small_airport |EG-DK     |1    |\n",
      "|large_airport |ID-KI     |1    |\n",
      "|small_airport |IR-28     |2    |\n",
      "|heliport      |JO-AZ     |1    |\n",
      "|heliport      |ES-GA     |1    |\n",
      "|small_airport |ES-PM     |2    |\n",
      "|medium_airport|FR-Q      |3    |\n",
      "|medium_airport|MX-BCS    |4    |\n",
      "|small_airport |CR-SJ     |2    |\n",
      "|small_airport |SV-SS     |2    |\n",
      "|medium_airport|CU-02     |2    |\n",
      "|small_airport |AF-FYB    |1    |\n",
      "+--------------+----------+-----+\n",
      "only showing top 20 rows\n",
      "\n"
     ]
    }
   ],
   "source": [
    "#GroupBy\n",
    "\n",
    "data.groupBy('category', 'iso_region').count().show(truncate=False)"
   ]
  },
  {
   "cell_type": "code",
   "execution_count": 9,
   "metadata": {},
   "outputs": [
    {
     "name": "stdout",
     "output_type": "stream",
     "text": [
      "+--------------+-----+\n",
      "|category      |count|\n",
      "+--------------+-----+\n",
      "|balloonport   |17   |\n",
      "|closed        |1429 |\n",
      "|heliport      |8985 |\n",
      "|large_airport |566  |\n",
      "|medium_airport|4531 |\n",
      "|seaplane_base |909  |\n",
      "|small_airport |29798|\n",
      "+--------------+-----+\n",
      "\n"
     ]
    }
   ],
   "source": [
    "data.groupBy('category').count().orderBy('category').show(truncate=False)"
   ]
  },
  {
   "cell_type": "markdown",
   "metadata": {},
   "source": [
    "### Change column type"
   ]
  },
  {
   "cell_type": "code",
   "execution_count": 13,
   "metadata": {},
   "outputs": [
    {
     "data": {
      "text/plain": [
       "[('elevation_ft', 'string')]"
      ]
     },
     "execution_count": 13,
     "metadata": {},
     "output_type": "execute_result"
    }
   ],
   "source": [
    "#Column type\n",
    "\n",
    "data.select('elevation_ft').dtypesColun "
   ]
  },
  {
   "cell_type": "code",
   "execution_count": 17,
   "metadata": {},
   "outputs": [
    {
     "name": "stdout",
     "output_type": "stream",
     "text": [
      "root\n",
      " |-- ident: string (nullable = true)\n",
      " |-- category: string (nullable = true)\n",
      " |-- name: string (nullable = true)\n",
      " |-- latitude_deg: string (nullable = true)\n",
      " |-- longitude_deg: string (nullable = true)\n",
      " |-- elevation_ft: integer (nullable = true)\n",
      " |-- continent: string (nullable = true)\n",
      " |-- iso_country: string (nullable = true)\n",
      " |-- iso_region: string (nullable = true)\n",
      " |-- municipality: string (nullable = true)\n",
      " |-- gps_code: string (nullable = true)\n",
      " |-- iata_code: string (nullable = true)\n",
      " |-- local_code: string (nullable = true)\n",
      "\n"
     ]
    }
   ],
   "source": [
    "#String to Integer\n",
    "\n",
    "from pyspark.sql.types import IntegerType\n",
    "\n",
    "data_new = data.withColumn('elevation_ft',data['elevation_ft'].cast(IntegerType()))\n",
    "data_new.printSchema()\n"
   ]
  },
  {
   "cell_type": "code",
   "execution_count": null,
   "metadata": {},
   "outputs": [],
   "source": []
  }
 ],
 "metadata": {
  "kernelspec": {
   "display_name": "Python 3",
   "language": "python",
   "name": "python3"
  },
  "language_info": {
   "codemirror_mode": {
    "name": "ipython",
    "version": 3
   },
   "file_extension": ".py",
   "mimetype": "text/x-python",
   "name": "python",
   "nbconvert_exporter": "python",
   "pygments_lexer": "ipython3",
   "version": "3.7.7"
  }
 },
 "nbformat": 4,
 "nbformat_minor": 4
}