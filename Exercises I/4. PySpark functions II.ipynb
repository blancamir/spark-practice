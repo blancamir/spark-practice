{
 "cells": [
  {
   "cell_type": "markdown",
   "metadata": {},
   "source": [
    "## Create a dataframe from a parquet file\n",
    "\n",
    ".- Renamed a column, new column"
   ]
  },
  {
   "cell_type": "code",
   "execution_count": 1,
   "metadata": {},
   "outputs": [],
   "source": [
    "import findspark\n",
    "findspark.init()\n",
    "\n",
    "import pyspark\n",
    "\n",
    "#Create a SparkSession\n",
    "\n",
    "from pyspark.sql import SparkSession\n",
    "spark = SparkSession.builder.appName(\"Datasets\").getOrCreate()"
   ]
  },
  {
   "cell_type": "code",
   "execution_count": 4,
   "metadata": {
    "scrolled": true
   },
   "outputs": [
    {
     "name": "stdout",
     "output_type": "stream",
     "text": [
      "+-----+-------------+--------------------+------------+-------------+------------+---------+-----------+----------+------------+--------+---------+----------+\n",
      "|ident|     category|                name|latitude_deg|longitude_deg|elevation_ft|continent|iso_country|iso_region|municipality|gps_code|iata_code|local_code|\n",
      "+-----+-------------+--------------------+------------+-------------+------------+---------+-----------+----------+------------+--------+---------+----------+\n",
      "|  00A|     heliport|   Total Rf Heliport| 40.07080078| -74.93360138|          11|       NA|         US|     US-PA|    Bensalem|     00A|     null|       00A|\n",
      "| 00AK|small_airport|        Lowell Field| 59.94919968| -151.6959991|         450|       NA|         US|     US-AK|Anchor Point|    00AK|     null|      00AK|\n",
      "| 00AL|small_airport|        Epps Airpark|  34.8647995| -86.77030182|         820|       NA|         US|     US-AL|     Harvest|    00AL|     null|      00AL|\n",
      "| 00AR|     heliport|Newport Hospital ...|  35.6086998| -91.25489807|         237|       NA|         US|     US-AR|     Newport|    00AR|     null|      00AR|\n",
      "| 00AZ|small_airport|      Cordes Airport| 34.30559921| -112.1650009|        3810|       NA|         US|     US-AZ|      Cordes|    00AZ|     null|      00AZ|\n",
      "+-----+-------------+--------------------+------------+-------------+------------+---------+-----------+----------+------------+--------+---------+----------+\n",
      "only showing top 5 rows\n",
      "\n"
     ]
    }
   ],
   "source": [
    "df = spark.read.parquet('C:/Users/usuario/Documents/Blanca/Spark/data/airports.parquet')\n",
    "df.show(5)"
   ]
  },
  {
   "cell_type": "code",
   "execution_count": 7,
   "metadata": {},
   "outputs": [],
   "source": [
    "from pyspark.sql import functions"
   ]
  },
  {
   "cell_type": "markdown",
   "metadata": {},
   "source": [
    "Rename a column withColumnRenamed()"
   ]
  },
  {
   "cell_type": "code",
   "execution_count": 9,
   "metadata": {},
   "outputs": [
    {
     "name": "stdout",
     "output_type": "stream",
     "text": [
      "root\n",
      " |-- id: string (nullable = true)\n",
      " |-- category: string (nullable = true)\n",
      " |-- name: string (nullable = true)\n",
      " |-- latitude_deg: double (nullable = true)\n",
      " |-- longitude_deg: double (nullable = true)\n",
      " |-- elevation_ft: integer (nullable = true)\n",
      " |-- continent: string (nullable = true)\n",
      " |-- iso_country: string (nullable = true)\n",
      " |-- iso_region: string (nullable = true)\n",
      " |-- municipality: string (nullable = true)\n",
      " |-- gps_code: string (nullable = true)\n",
      " |-- iata_code: string (nullable = true)\n",
      " |-- local_code: string (nullable = true)\n",
      "\n"
     ]
    }
   ],
   "source": [
    "df.withColumnRenamed('ident', 'id').printSchema()"
   ]
  },
  {
   "cell_type": "markdown",
   "metadata": {},
   "source": [
    "Add a new column withcolumn()"
   ]
  },
  {
   "cell_type": "code",
   "execution_count": 16,
   "metadata": {},
   "outputs": [
    {
     "name": "stdout",
     "output_type": "stream",
     "text": [
      "root\n",
      " |-- ident: string (nullable = true)\n",
      " |-- category: string (nullable = true)\n",
      " |-- name: string (nullable = true)\n",
      " |-- latitude_deg: double (nullable = true)\n",
      " |-- longitude_deg: double (nullable = true)\n",
      " |-- elevation_ft: integer (nullable = true)\n",
      " |-- continent: string (nullable = true)\n",
      " |-- iso_country: string (nullable = false)\n",
      " |-- iso_region: string (nullable = true)\n",
      " |-- municipality: string (nullable = true)\n",
      " |-- gps_code: string (nullable = true)\n",
      " |-- iata_code: string (nullable = true)\n",
      " |-- local_code: string (nullable = true)\n",
      "\n"
     ]
    }
   ],
   "source": [
    "from pyspark.sql.functions import col, lit\n",
    "\n",
    "df2 = df.withColumn('iso_country', lit('SPAIN'))\n",
    "df2.printSchema()"
   ]
  },
  {
   "cell_type": "code",
   "execution_count": 17,
   "metadata": {},
   "outputs": [
    {
     "name": "stdout",
     "output_type": "stream",
     "text": [
      "+-----+-------------+--------------------+------------+-------------+------------+---------+-----------+----------+------------+--------+---------+----------+\n",
      "|ident|     category|                name|latitude_deg|longitude_deg|elevation_ft|continent|iso_country|iso_region|municipality|gps_code|iata_code|local_code|\n",
      "+-----+-------------+--------------------+------------+-------------+------------+---------+-----------+----------+------------+--------+---------+----------+\n",
      "|  00A|     heliport|   Total Rf Heliport| 40.07080078| -74.93360138|          11|       NA|      SPAIN|     US-PA|    Bensalem|     00A|     null|       00A|\n",
      "| 00AK|small_airport|        Lowell Field| 59.94919968| -151.6959991|         450|       NA|      SPAIN|     US-AK|Anchor Point|    00AK|     null|      00AK|\n",
      "| 00AL|small_airport|        Epps Airpark|  34.8647995| -86.77030182|         820|       NA|      SPAIN|     US-AL|     Harvest|    00AL|     null|      00AL|\n",
      "| 00AR|     heliport|Newport Hospital ...|  35.6086998| -91.25489807|         237|       NA|      SPAIN|     US-AR|     Newport|    00AR|     null|      00AR|\n",
      "| 00AZ|small_airport|      Cordes Airport| 34.30559921| -112.1650009|        3810|       NA|      SPAIN|     US-AZ|      Cordes|    00AZ|     null|      00AZ|\n",
      "+-----+-------------+--------------------+------------+-------------+------------+---------+-----------+----------+------------+--------+---------+----------+\n",
      "only showing top 5 rows\n",
      "\n"
     ]
    }
   ],
   "source": [
    "df2.show(5)"
   ]
  },
  {
   "cell_type": "code",
   "execution_count": null,
   "metadata": {},
   "outputs": [],
   "source": [
    "df3 = df.withColumn()"
   ]
  }
 ],
 "metadata": {
  "kernelspec": {
   "display_name": "Python 3",
   "language": "python",
   "name": "python3"
  },
  "language_info": {
   "codemirror_mode": {
    "name": "ipython",
    "version": 3
   },
   "file_extension": ".py",
   "mimetype": "text/x-python",
   "name": "python",
   "nbconvert_exporter": "python",
   "pygments_lexer": "ipython3",
   "version": "3.7.7"
  }
 },
 "nbformat": 4,
 "nbformat_minor": 4
}