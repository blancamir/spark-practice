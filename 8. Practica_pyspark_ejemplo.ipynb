{
 "metadata": {
  "language_info": {
   "codemirror_mode": {
    "name": "ipython",
    "version": 3
   },
   "file_extension": ".py",
   "mimetype": "text/x-python",
   "name": "python",
   "nbconvert_exporter": "python",
   "pygments_lexer": "ipython3",
   "version": "3.7.9-final"
  },
  "orig_nbformat": 2,
  "kernelspec": {
   "name": "python3",
   "display_name": "Python 3",
   "language": "python"
  }
 },
 "nbformat": 4,
 "nbformat_minor": 2,
 "cells": [
  {
   "source": [
    "# Locales y Terrazas Comunidad de Madrid\n",
    "\n",
    "Objetivo: identificar restaurantes y bares de la Comunidad de Madrid que están activos y si tienen terraza.\n",
    "\n",
    "Hacer las transformaciones necesarias y guardar los datos obtenidos en fichero formato json."
   ],
   "cell_type": "markdown",
   "metadata": {}
  },
  {
   "source": [
    "Importar librerias necesarias y crear la sesion de spark"
   ],
   "cell_type": "markdown",
   "metadata": {}
  },
  {
   "cell_type": "code",
   "execution_count": 28,
   "metadata": {},
   "outputs": [],
   "source": [
    "import findspark\n",
    "findspark.init()\n",
    "\n",
    "import pyspark\n",
    "from pyspark.sql import functions as pyf\n",
    "\n",
    "import utm\n",
    "import pandas as pd \n",
    "import numpy as np \n",
    "import json"
   ]
  },
  {
   "cell_type": "code",
   "execution_count": 2,
   "metadata": {},
   "outputs": [],
   "source": [
    "from pyspark.sql import SparkSession\n",
    "from pyspark.sql.types import *\n",
    "\n",
    "#Crear la sesión de spark\n",
    "spark = SparkSession.builder.appName('datos_proyecto').getOrCreate()"
   ]
  },
  {
   "source": [
    "Leer los ficheros csv que vamos a utilizar"
   ],
   "cell_type": "markdown",
   "metadata": {}
  },
  {
   "cell_type": "code",
   "execution_count": 4,
   "metadata": {},
   "outputs": [],
   "source": [
    "#Ficheros\n",
    "fichero1 = r'C:\\Users\\usuario\\Documents\\Blanca\\Spark\\3.Practica_proyecto\\Practica_proyecto\\Datos\\OPEN DATA Locales-Epigrafes202010 (1).csv'\n",
    "fichero2 = r'C:\\Users\\usuario\\Documents\\Blanca\\Spark\\3.Practica_proyecto\\Practica_proyecto\\Datos\\OPEN DATA Terrazas20209.csv'"
   ]
  },
  {
   "cell_type": "code",
   "execution_count": 5,
   "metadata": {
    "tags": []
   },
   "outputs": [],
   "source": [
    "#Utilizando () para envolver el código, no es necesario añadir \"\\\" para saltar de linea.\n",
    "locales = (spark.read.csv(fichero1, header=True, inferSchema=True, sep=';')\n",
    "        .select('rotulo', 'id_local', 'clase_vial_acceso', 'desc_vial_acceso', 'num_edificio', \n",
    "        'desc_situacion_local', 'desc_seccion', 'desc_epigrafe', 'desc_distrito_local', 'coordenada_x_local','coordenada_y_local') \n",
    "        .filter((pyf.col('desc_seccion') == 'HOSTELERIA') & (pyf.col('desc_situacion_local') == 'Abierto'))\n",
    ")\n",
    "#Directamente al leer el csv seleccionamos las columnas que nos inetersan, la actividad y la situación del local  "
   ]
  },
  {
   "cell_type": "code",
   "execution_count": 6,
   "metadata": {},
   "outputs": [],
   "source": [
    "terrazas = (spark.read.csv(fichero2, header=True, inferSchema=True, sep=';')\n",
    "        .select('id_terraza', 'id_local', 'desc_situacion_terraza')\n",
    "        .filter(pyf.col('desc_situacion_terraza') == 'Abierta')\n",
    ")"
   ]
  },
  {
   "cell_type": "code",
   "execution_count": 7,
   "metadata": {},
   "outputs": [
    {
     "output_type": "stream",
     "name": "stdout",
     "text": [
      "+--------------------+---------+--------------------+--------------------+------------+--------------------+------------+---------------+--------------------+------------------+------------------+\n",
      "|              rotulo| id_local|   clase_vial_acceso|    desc_vial_acceso|num_edificio|desc_situacion_local|desc_seccion|  desc_epigrafe| desc_distrito_local|coordenada_x_local|coordenada_y_local|\n",
      "+--------------------+---------+--------------------+--------------------+------------+--------------------+------------+---------------+--------------------+------------------+------------------+\n",
      "|LA NI�ATA CERVECE...|285016182|RONDA            ...|CABALLERO DE LA M...|          69|             Abierto|  HOSTELERIA| BAR CON COCINA|FUENCARRAL-EL PARDO |         441353,63|        4483636,55|\n",
      "|           PEGGY SUE|285016194|AVENIDA          ...|MONFORTE DE LEMOS...|         185|             Abierto|  HOSTELERIA|BAR RESTAURANTE|FUENCARRAL-EL PARDO |         439136,63|        4480869,56|\n",
      "+--------------------+---------+--------------------+--------------------+------------+--------------------+------------+---------------+--------------------+------------------+------------------+\n",
      "only showing top 2 rows\n",
      "\n",
      "root\n",
      " |-- rotulo: string (nullable = true)\n",
      " |-- id_local: string (nullable = true)\n",
      " |-- clase_vial_acceso: string (nullable = true)\n",
      " |-- desc_vial_acceso: string (nullable = true)\n",
      " |-- num_edificio: integer (nullable = true)\n",
      " |-- desc_situacion_local: string (nullable = true)\n",
      " |-- desc_seccion: string (nullable = true)\n",
      " |-- desc_epigrafe: string (nullable = true)\n",
      " |-- desc_distrito_local: string (nullable = true)\n",
      " |-- coordenada_x_local: string (nullable = true)\n",
      " |-- coordenada_y_local: string (nullable = true)\n",
      "\n",
      "20813\n"
     ]
    }
   ],
   "source": [
    "#Vista global del fichero de locales\n",
    "locales.show(2)\n",
    "locales.printSchema()\n",
    "print(locales.count())"
   ]
  },
  {
   "cell_type": "code",
   "execution_count": 8,
   "metadata": {},
   "outputs": [
    {
     "output_type": "stream",
     "name": "stdout",
     "text": [
      "+----------+---------+----------------------+\n|id_terraza| id_local|desc_situacion_terraza|\n+----------+---------+----------------------+\n|      1283|285029169|               Abierta|\n|      1284|200001006|               Abierta|\n+----------+---------+----------------------+\nonly showing top 2 rows\n\nroot\n |-- id_terraza: integer (nullable = true)\n |-- id_local: integer (nullable = true)\n |-- desc_situacion_terraza: string (nullable = true)\n\n5714\n"
     ]
    }
   ],
   "source": [
    "#Vista global del fochero terrazas\n",
    "terrazas.show(2)\n",
    "terrazas.printSchema()\n",
    "print(terrazas.count())"
   ]
  },
  {
   "cell_type": "code",
   "execution_count": 9,
   "metadata": {},
   "outputs": [],
   "source": [
    "#Selección solo de algunos epígrafes del primer csv\n",
    "locales_filtro = locales.filter((pyf.col('desc_epigrafe') == 'CAFETERIA') | (pyf.col('desc_epigrafe') == \"BAR SIN COCINA\") | (pyf.col('desc_epigrafe') =='BAR CON COCINA') | (pyf.col('desc_epigrafe') =='RESTAURANTE') | (pyf.col('desc_epigrafe') =='BAR RESTAURANTE') | (pyf.col('desc_epigrafe') =='BAR ESPECIAL SIN ACTUACIONES') | (pyf.col('desc_epigrafe') =='RESTAURANTES DE COMIDA RAPIDA') | (pyf.col('desc_epigrafe') =='TABERNA') | (pyf.col('desc_epigrafe') =='HOTELES Y MOTELES CON RESTAURANTE') | (pyf.col('desc_epigrafe') =='BAR ESPECIAL CON ACTUACIONES') | (pyf.col('desc_epigrafe') =='CHOCOLATERIA/SALON DE TE Y HELADERIA'))"
   ]
  },
  {
   "cell_type": "code",
   "execution_count": 10,
   "metadata": {},
   "outputs": [],
   "source": [
    "#Covertir tipo de algunas columnas\n",
    "locales_filtro = locales_filtro.withColumn('num_edificio', locales_filtro['num_edificio'].cast('string')) \\\n",
    "        .withColumn('id_local', locales_filtro['id_local'].cast('integer'))"
   ]
  },
  {
   "cell_type": "code",
   "execution_count": 11,
   "metadata": {},
   "outputs": [],
   "source": [
    "#Cambiar el formato de las coordenadas para luego transformarlas a coordenadas utm\n",
    "#1.Cambiar \",\" por \".\"\n",
    "locales_filtro = locales_filtro.withColumn('coordenada_x_local', pyf.regexp_replace('coordenada_x_local', ',', '.')) \\\n",
    "                .withColumn('coordenada_y_local', pyf.regexp_replace('coordenada_y_local', ',', '.'))"
   ]
  },
  {
   "cell_type": "code",
   "execution_count": 12,
   "metadata": {},
   "outputs": [],
   "source": [
    "#2.String to float\n",
    "locales_filtro = locales_filtro.withColumn('coordenada_x_local', locales_filtro['coordenada_x_local'].cast('float')) \\\n",
    "                .withColumn('coordenada_y_local', locales_filtro['coordenada_y_local'].cast('float')) \\"
   ]
  },
  {
   "cell_type": "code",
   "execution_count": 13,
   "metadata": {},
   "outputs": [],
   "source": [
    "#Agrupación de la dirección del local en una sola columna\n",
    "locales_filtro = locales_filtro.withColumn('direccion', pyf.concat(pyf.col('clase_vial_acceso'), pyf.lit(\" \"), pyf.col('desc_vial_acceso'), pyf.lit(\" \"), pyf.col('num_edificio')))"
   ]
  },
  {
   "cell_type": "code",
   "execution_count": 14,
   "metadata": {},
   "outputs": [
    {
     "output_type": "stream",
     "name": "stdout",
     "text": [
      "18072\n"
     ]
    }
   ],
   "source": [
    "#Total locales disponibles\n",
    "print(locales_filtro.count())"
   ]
  },
  {
   "cell_type": "code",
   "execution_count": 15,
   "metadata": {},
   "outputs": [
    {
     "output_type": "stream",
     "name": "stdout",
     "text": [
      "+---------+--------------------+--------------------+--------------------+------------+--------------------+------------+---------------+--------------------+------------------+------------------+--------------------+----------+----------------------+\n",
      "| id_local|              rotulo|   clase_vial_acceso|    desc_vial_acceso|num_edificio|desc_situacion_local|desc_seccion|  desc_epigrafe| desc_distrito_local|coordenada_x_local|coordenada_y_local|           direccion|id_terraza|desc_situacion_terraza|\n",
      "+---------+--------------------+--------------------+--------------------+------------+--------------------+------------+---------------+--------------------+------------------+------------------+--------------------+----------+----------------------+\n",
      "|285016182|LA NI�ATA CERVECE...|RONDA            ...|CABALLERO DE LA M...|          69|             Abierto|  HOSTELERIA| BAR CON COCINA|FUENCARRAL-EL PARDO |         441353.62|         4483636.5|RONDA            ...|      7367|               Abierta|\n",
      "|285016194|           PEGGY SUE|AVENIDA          ...|MONFORTE DE LEMOS...|         185|             Abierto|  HOSTELERIA|BAR RESTAURANTE|FUENCARRAL-EL PARDO |         439136.62|         4480869.5|AVENIDA          ...|      2622|               Abierta|\n",
      "+---------+--------------------+--------------------+--------------------+------------+--------------------+------------+---------------+--------------------+------------------+------------------+--------------------+----------+----------------------+\n",
      "only showing top 2 rows\n",
      "\n",
      "18072\n"
     ]
    }
   ],
   "source": [
    "#Unir la tabla locales con terrazas JOIN\n",
    "locales_total = locales_filtro.join(terrazas, on=['id_local'], how='left_outer')\n",
    "locales_total.show(2)\n",
    "print(locales_total.count())"
   ]
  },
  {
   "cell_type": "code",
   "execution_count": 16,
   "metadata": {},
   "outputs": [
    {
     "output_type": "stream",
     "name": "stdout",
     "text": [
      "+---------+--------------------+--------------------+--------------------+------------+--------------------+------------+---------------+--------------------+------------------+------------------+--------------------+----------+----------------------+-------+\n| id_local|              rotulo|   clase_vial_acceso|    desc_vial_acceso|num_edificio|desc_situacion_local|desc_seccion|  desc_epigrafe| desc_distrito_local|coordenada_x_local|coordenada_y_local|           direccion|id_terraza|desc_situacion_terraza|terraza|\n+---------+--------------------+--------------------+--------------------+------------+--------------------+------------+---------------+--------------------+------------------+------------------+--------------------+----------+----------------------+-------+\n|285016182|LA NI�ATA CERVECE...|RONDA            ...|CABALLERO DE LA M...|          69|             Abierto|  HOSTELERIA| BAR CON COCINA|FUENCARRAL-EL PARDO |         441353.62|         4483636.5|RONDA            ...|      7367|               Abierta|      1|\n|285016194|           PEGGY SUE|AVENIDA          ...|MONFORTE DE LEMOS...|         185|             Abierto|  HOSTELERIA|BAR RESTAURANTE|FUENCARRAL-EL PARDO |         439136.62|         4480869.5|AVENIDA          ...|      2622|               Abierta|      1|\n|285016368|      LA TAGLIATELLA|PASEO            ...|SAN MILLAN DE LA ...|          23|             Abierto|  HOSTELERIA|BAR RESTAURANTE|FUENCARRAL-EL PARDO |         443169.62|         4483943.5|PASEO            ...|      null|                  null|      0|\n+---------+--------------------+--------------------+--------------------+------------+--------------------+------------+---------------+--------------------+------------------+------------------+--------------------+----------+----------------------+-------+\nonly showing top 3 rows\n\n"
     ]
    }
   ],
   "source": [
    "#Añadir una nueva columna para identificar los locales con terreza (si=1, no=0)\n",
    "locales_total = locales_total.withColumn('terraza', pyf.when(pyf.col('id_terraza') >0, 1).otherwise(0))\n",
    "locales_total.show(3)"
   ]
  },
  {
   "cell_type": "code",
   "execution_count": 17,
   "metadata": {},
   "outputs": [
    {
     "output_type": "stream",
     "name": "stdout",
     "text": [
      "18072\n"
     ]
    }
   ],
   "source": [
    "print(locales_total.count())"
   ]
  },
  {
   "source": [
    "Tratamiento de las coordenadas"
   ],
   "cell_type": "markdown",
   "metadata": {}
  },
  {
   "cell_type": "code",
   "execution_count": 18,
   "metadata": {},
   "outputs": [],
   "source": [
    "#Seleccionamos solo las filas que tienen coordenadas coorectas\n",
    "locales_total = locales_total.filter(pyf.col('coordenada_x_local') > 400000)"
   ]
  },
  {
   "cell_type": "code",
   "execution_count": 19,
   "metadata": {},
   "outputs": [
    {
     "output_type": "stream",
     "name": "stdout",
     "text": [
      "17084\n"
     ]
    }
   ],
   "source": [
    "print(locales_total.count())"
   ]
  },
  {
   "cell_type": "code",
   "execution_count": 20,
   "metadata": {},
   "outputs": [],
   "source": [
    "#Covertir a coordenadas utm\n",
    "utm_x = pyf.udf(lambda x, y: float(utm.to_latlon(x,y, 30, 'T')[0]), FloatType())\n",
    "utm_y = pyf.udf(lambda x, y: float(utm.to_latlon(x,y, 30, 'T')[1]), FloatType())\n",
    "    "
   ]
  },
  {
   "cell_type": "code",
   "execution_count": 21,
   "metadata": {},
   "outputs": [],
   "source": [
    "locales_total = locales_total.withColumn('lat', utm_x(pyf.col('coordenada_x_local'), pyf.col('coordenada_y_local')))\n",
    "locales_total = locales_total.withColumn('lon', utm_y(pyf.col('coordenada_x_local'), pyf.col('coordenada_y_local')))"
   ]
  },
  {
   "source": [
    "## Fichero definitivo"
   ],
   "cell_type": "markdown",
   "metadata": {}
  },
  {
   "cell_type": "code",
   "execution_count": 32,
   "metadata": {},
   "outputs": [
    {
     "output_type": "stream",
     "name": "stdout",
     "text": [
      "+---------+--------------------+--------------------+--------------------+-------+---------+----------+\n| id_local| desc_distrito_local|              rotulo|           direccion|terraza|      lat|       lon|\n+---------+--------------------+--------------------+--------------------+-------+---------+----------+\n|285016182|FUENCARRAL-EL PARDO |LA NI�ATA CERVECE...|RONDA            ...|      1|40.501366|-3.6921358|\n|285016194|FUENCARRAL-EL PARDO |           PEGGY SUE|AVENIDA          ...|      1| 40.47628|-3.7180328|\n|285016368|FUENCARRAL-EL PARDO |      LA TAGLIATELLA|PASEO            ...|      0|40.504257|-3.6707327|\n|285016372|FUENCARRAL-EL PARDO |  MANOLITO POR DIOS!|PASEO            ...|      0|40.504517|-3.6710894|\n+---------+--------------------+--------------------+--------------------+-------+---------+----------+\nonly showing top 4 rows\n\n"
     ]
    }
   ],
   "source": [
    "locales_total = locales_total.select('id_local', 'desc_distrito_local', 'rotulo', 'direccion', 'terraza', 'lat', 'lon')\n",
    "locales_total.show(4)"
   ]
  },
  {
   "cell_type": "code",
   "execution_count": 33,
   "metadata": {},
   "outputs": [],
   "source": [
    "#Convertir a un datframe de pandas\n",
    "locales_df = locales_total.toPandas()"
   ]
  },
  {
   "cell_type": "code",
   "execution_count": 35,
   "metadata": {},
   "outputs": [],
   "source": [
    "#Saving the pandas df to json file\n",
    "j = locales_df.to_json(orient='records')\n",
    "with open('locales_prueba.json', 'w') as json_file:\n",
    "    json.dump(j, json_file)"
   ]
  }
 ]
}
