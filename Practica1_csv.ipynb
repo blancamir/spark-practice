{
 "cells": [
  {
   "cell_type": "markdown",
   "metadata": {},
   "source": [
    "## Padrón Comunidad de Madrid\n",
    "\n",
    "https://datos.madrid.es/FWProjects/egob/Catalogo/Demografia/Padron/conceptos_fundamentales.pdf"
   ]
  },
  {
   "cell_type": "markdown",
   "metadata": {},
   "source": [
    "1. Leer el CSV del padrón y pasarle un schema indicando el tipo de dato de cada columna. Una vez leído el CSV guardarlo en formato parquet\n"
   ]
  },
  {
   "cell_type": "code",
   "execution_count": 1,
   "metadata": {},
   "outputs": [],
   "source": [
    "#First mport pyspark library and create a spark session\n",
    "\n",
    "import findspark\n",
    "findspark.init()\n",
    "\n",
    "import pyspark\n",
    "\n",
    "from pyspark.sql import SparkSession\n",
    "spark = SparkSession.builder.appName(\"CSV to Dataset\").getOrCreate()\n"
   ]
  },
  {
   "cell_type": "code",
   "execution_count": 2,
   "metadata": {},
   "outputs": [
    {
     "name": "stdout",
     "output_type": "stream",
     "text": [
      "root\n",
      " |-- COD_DISTRITO: integer (nullable = true)\n",
      " |-- DESC_DISTRITO: string (nullable = true)\n",
      " |-- COD_DIST_BARRIO: integer (nullable = true)\n",
      " |-- DESC_BARRIO: string (nullable = true)\n",
      " |-- COD_BARRIO: integer (nullable = true)\n",
      " |-- COD_DIST_SECCION: integer (nullable = true)\n",
      " |-- COD_SECCION: integer (nullable = true)\n",
      " |-- COD_EDAD_INT: integer (nullable = true)\n",
      " |-- EspanolesHombres: integer (nullable = true)\n",
      " |-- EspanolesMujeres: integer (nullable = true)\n",
      " |-- ExtranjerosHombres: integer (nullable = true)\n",
      " |-- ExtranjerosMujeres: integer (nullable = true)\n",
      "\n",
      "+------------+--------------------+---------------+--------------------+----------+----------------+-----------+------------+----------------+----------------+------------------+------------------+\n",
      "|COD_DISTRITO|       DESC_DISTRITO|COD_DIST_BARRIO|         DESC_BARRIO|COD_BARRIO|COD_DIST_SECCION|COD_SECCION|COD_EDAD_INT|EspanolesHombres|EspanolesMujeres|ExtranjerosHombres|ExtranjerosMujeres|\n",
      "+------------+--------------------+---------------+--------------------+----------+----------------+-----------+------------+----------------+----------------+------------------+------------------+\n",
      "|           1|CENTRO              |            101|PALACIO             |         1|            1001|          1|           0|               5|            null|                 1|              null|\n",
      "|           1|CENTRO              |            101|PALACIO             |         1|            1001|          1|           1|               2|               3|              null|                 5|\n",
      "|           1|CENTRO              |            101|PALACIO             |         1|            1001|          1|           2|               6|               1|                 1|              null|\n",
      "|           1|CENTRO              |            101|PALACIO             |         1|            1001|          1|           3|               2|            null|              null|                 3|\n",
      "|           1|CENTRO              |            101|PALACIO             |         1|            1001|          1|           4|               3|               3|              null|              null|\n",
      "+------------+--------------------+---------------+--------------------+----------+----------------+-----------+------------+----------------+----------------+------------------+------------------+\n",
      "only showing top 5 rows\n",
      "\n"
     ]
    }
   ],
   "source": [
    "#Leer el fichero csv sin schema. Con la opción inferSchema=True detecta automáticamente el tipo de cada columna.\n",
    "\n",
    "df = spark.read.options(header=True, delimiter=';', quota='', inferSchema=True) \\\n",
    "    .csv('padron_madrid/Rango_Edades_Seccion_202011.csv')\n",
    "df.printSchema()\n",
    "df.show(5)"
   ]
  },
  {
   "cell_type": "code",
   "execution_count": 3,
   "metadata": {},
   "outputs": [],
   "source": [
    "from pyspark.sql.types import StructType, StructField, StringType, IntegerType"
   ]
  },
  {
   "cell_type": "code",
   "execution_count": 4,
   "metadata": {},
   "outputs": [
    {
     "name": "stdout",
     "output_type": "stream",
     "text": [
      "root\n",
      " |-- COD_DISTRITO: integer (nullable = true)\n",
      " |-- DESC_DISTRITO: string (nullable = true)\n",
      " |-- COD_DIST_BARRIO: integer (nullable = true)\n",
      " |-- DESC_BARRIO: string (nullable = true)\n",
      " |-- COD_BARRIO: integer (nullable = true)\n",
      " |-- COD_DIST_SECCION: integer (nullable = true)\n",
      " |-- COD_SECCION: integer (nullable = true)\n",
      " |-- COD_EDAD_INT: integer (nullable = true)\n",
      " |-- EspanolesHombres: integer (nullable = true)\n",
      " |-- EspanolesMujeres: integer (nullable = true)\n",
      " |-- ExtranjerosHombres: integer (nullable = true)\n",
      " |-- ExtranjerosMujeres: integer (nullable = true)\n",
      "\n",
      "+------------+--------------------+---------------+--------------------+----------+----------------+-----------+------------+----------------+----------------+------------------+------------------+\n",
      "|COD_DISTRITO|       DESC_DISTRITO|COD_DIST_BARRIO|         DESC_BARRIO|COD_BARRIO|COD_DIST_SECCION|COD_SECCION|COD_EDAD_INT|EspanolesHombres|EspanolesMujeres|ExtranjerosHombres|ExtranjerosMujeres|\n",
      "+------------+--------------------+---------------+--------------------+----------+----------------+-----------+------------+----------------+----------------+------------------+------------------+\n",
      "|           1|CENTRO              |            101|PALACIO             |         1|            1001|          1|           0|               5|            null|                 1|              null|\n",
      "|           1|CENTRO              |            101|PALACIO             |         1|            1001|          1|           1|               2|               3|              null|                 5|\n",
      "|           1|CENTRO              |            101|PALACIO             |         1|            1001|          1|           2|               6|               1|                 1|              null|\n",
      "|           1|CENTRO              |            101|PALACIO             |         1|            1001|          1|           3|               2|            null|              null|                 3|\n",
      "|           1|CENTRO              |            101|PALACIO             |         1|            1001|          1|           4|               3|               3|              null|              null|\n",
      "+------------+--------------------+---------------+--------------------+----------+----------------+-----------+------------+----------------+----------------+------------------+------------------+\n",
      "only showing top 5 rows\n",
      "\n"
     ]
    }
   ],
   "source": [
    "#Leer el fichero con el schema indicado\n",
    "\n",
    "schema = StructType() \\\n",
    "    .add('COD_DISTRITO', IntegerType(), True) \\\n",
    "    .add('DESC_DISTRITO', StringType(), True) \\\n",
    "    .add('COD_DIST_BARRIO', IntegerType(), True) \\\n",
    "    .add('DESC_BARRIO', StringType(), True) \\\n",
    "    .add('COD_BARRIO', IntegerType(), True) \\\n",
    "    .add('COD_DIST_SECCION', IntegerType(), True) \\\n",
    "    .add('COD_SECCION', IntegerType(), True) \\\n",
    "    .add('COD_EDAD_INT', IntegerType(), True) \\\n",
    "    .add('EspanolesHombres', IntegerType(), True) \\\n",
    "    .add('EspanolesMujeres', IntegerType(), True) \\\n",
    "    .add('ExtranjerosHombres', IntegerType(), True) \\\n",
    "    .add('ExtranjerosMujeres', IntegerType(), True)\n",
    "\n",
    "df_schema = spark.read.format('csv') \\\n",
    "    .option('header',True) \\\n",
    "    .option('delimiter', ';') \\\n",
    "    .schema(schema) \\\n",
    "    .load('padron_madrid/Rango_Edades_Seccion_202011.csv')\n",
    "\n",
    "df_schema.printSchema()\n",
    "df_schema.show(5)"
   ]
  },
  {
   "cell_type": "code",
   "execution_count": 6,
   "metadata": {},
   "outputs": [
    {
     "name": "stdout",
     "output_type": "stream",
     "text": [
      "+----------------+----------------+------------------+------------------+\n",
      "|EspanolesHombres|EspanolesMujeres|ExtranjerosHombres|ExtranjerosMujeres|\n",
      "+----------------+----------------+------------------+------------------+\n",
      "|               5|               0|                 1|                 0|\n",
      "|               2|               3|                 0|                 5|\n",
      "|               6|               1|                 1|                 0|\n",
      "|               2|               0|                 0|                 3|\n",
      "|               3|               3|                 0|                 0|\n",
      "+----------------+----------------+------------------+------------------+\n",
      "only showing top 5 rows\n",
      "\n"
     ]
    }
   ],
   "source": [
    "#Seleccionamos las columnas numéricas y rellenamos valores nulos con 0\n",
    "\n",
    "df_4campos = df_schema.select('EspanolesHombres', 'EspanolesMujeres', 'ExtranjerosHombres', 'ExtranjerosMujeres')\n",
    "df_4campos.na.fill(0).show(5)"
   ]
  },
  {
   "cell_type": "markdown",
   "metadata": {},
   "source": [
    "### Ejemplo de como crear una vista para hacer consultas sql"
   ]
  },
  {
   "cell_type": "code",
   "execution_count": 7,
   "metadata": {},
   "outputs": [
    {
     "name": "stdout",
     "output_type": "stream",
     "text": [
      "+----------------+----------------+\n",
      "|EspanolesHombres|EspanolesMujeres|\n",
      "+----------------+----------------+\n",
      "|               5|               0|\n",
      "|               2|               3|\n",
      "|               6|               1|\n",
      "|               2|               0|\n",
      "|               3|               3|\n",
      "+----------------+----------------+\n",
      "only showing top 5 rows\n",
      "\n"
     ]
    }
   ],
   "source": [
    "df_4campos_0 = df_4campos.na.fill(0)\n",
    "\n",
    "#crear una vista para hacer consultas en sql\n",
    "df_4campos_0.createOrReplaceTempView(\"people\")\n",
    "\n",
    "#spark.sql('SELECT * FROM people').show(5)\n",
    "\n",
    "spark.sql('SELECT EspanolesHombres,EspanolesMujeres FROM people').show(5)\n"
   ]
  }
 ],
 "metadata": {
  "kernelspec": {
   "display_name": "Python 3",
   "language": "python",
   "name": "python3"
  },
  "language_info": {
   "codemirror_mode": {
    "name": "ipython",
    "version": 3
   },
   "file_extension": ".py",
   "mimetype": "text/x-python",
   "name": "python",
   "nbconvert_exporter": "python",
   "pygments_lexer": "ipython3",
   "version": "3.7.7"
  }
 },
 "nbformat": 4,
 "nbformat_minor": 4
}
