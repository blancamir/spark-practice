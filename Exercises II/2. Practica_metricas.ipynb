{
 "cells": [
  {
   "cell_type": "markdown",
   "metadata": {},
   "source": [
    "## Padrón Comunidad de Madrid"
   ]
  },
  {
   "cell_type": "markdown",
   "metadata": {},
   "source": [
    "2.Crear otro notebook donde leyendo el fichero original en CSV obtener algunas métricas."
   ]
  },
  {
   "cell_type": "code",
   "execution_count": 19,
   "metadata": {},
   "outputs": [],
   "source": [
    "import findspark\n",
    "findspark.init()\n",
    "\n",
    "import pyspark\n",
    "\n",
    "from pyspark.sql import SparkSession\n",
    "spark = SparkSession.builder.appName(\"CSV to Dataset\").getOrCreate()"
   ]
  },
  {
   "cell_type": "code",
   "execution_count": 20,
   "metadata": {
    "scrolled": true
   },
   "outputs": [
    {
     "output_type": "stream",
     "name": "stdout",
     "text": [
      "root\n |-- COD_DISTRITO: integer (nullable = true)\n |-- DESC_DISTRITO: string (nullable = true)\n |-- COD_DIST_BARRIO: integer (nullable = true)\n |-- DESC_BARRIO: string (nullable = true)\n |-- COD_BARRIO: integer (nullable = true)\n |-- COD_DIST_SECCION: integer (nullable = true)\n |-- COD_SECCION: integer (nullable = true)\n |-- COD_EDAD_INT: integer (nullable = true)\n |-- EspanolesHombres: integer (nullable = true)\n |-- EspanolesMujeres: integer (nullable = true)\n |-- ExtranjerosHombres: integer (nullable = true)\n |-- ExtranjerosMujeres: integer (nullable = true)\n\n+------------+--------------------+---------------+--------------------+----------+----------------+-----------+------------+----------------+----------------+------------------+------------------+\n|COD_DISTRITO|       DESC_DISTRITO|COD_DIST_BARRIO|         DESC_BARRIO|COD_BARRIO|COD_DIST_SECCION|COD_SECCION|COD_EDAD_INT|EspanolesHombres|EspanolesMujeres|ExtranjerosHombres|ExtranjerosMujeres|\n+------------+--------------------+---------------+--------------------+----------+----------------+-----------+------------+----------------+----------------+------------------+------------------+\n|           1|CENTRO              |            101|PALACIO             |         1|            1001|          1|           0|               5|            null|                 1|              null|\n|           1|CENTRO              |            101|PALACIO             |         1|            1001|          1|           1|               2|               3|              null|                 5|\n|           1|CENTRO              |            101|PALACIO             |         1|            1001|          1|           2|               6|               1|                 1|              null|\n|           1|CENTRO              |            101|PALACIO             |         1|            1001|          1|           3|               2|            null|              null|                 3|\n|           1|CENTRO              |            101|PALACIO             |         1|            1001|          1|           4|               3|               3|              null|              null|\n+------------+--------------------+---------------+--------------------+----------+----------------+-----------+------------+----------------+----------------+------------------+------------------+\nonly showing top 5 rows\n\n"
     ]
    }
   ],
   "source": [
    "from pyspark.sql.types import StructType,StructField, StringType, IntegerType\n",
    "\n",
    "schema = StructType() \\\n",
    "    .add('COD_DISTRITO', IntegerType(), True) \\\n",
    "    .add('DESC_DISTRITO', StringType(), True) \\\n",
    "    .add('COD_DIST_BARRIO', IntegerType(), True) \\\n",
    "    .add('DESC_BARRIO', StringType(), True) \\\n",
    "    .add('COD_BARRIO', IntegerType(), True) \\\n",
    "    .add('COD_DIST_SECCION', IntegerType(), True) \\\n",
    "    .add('COD_SECCION', IntegerType(), True) \\\n",
    "    .add('COD_EDAD_INT', IntegerType(), True) \\\n",
    "    .add('EspanolesHombres', IntegerType(), True) \\\n",
    "    .add('EspanolesMujeres', IntegerType(), True) \\\n",
    "    .add('ExtranjerosHombres', IntegerType(), True) \\\n",
    "    .add('ExtranjerosMujeres', IntegerType(), True)\n",
    "\n",
    "df_schema = spark.read.format('csv') \\\n",
    "    .option('header',True) \\\n",
    "    .option('delimiter', ';') \\\n",
    "    .schema(schema) \\\n",
    "    .load('padron_madrid/Rango_Edades_Seccion_202011.csv')\n",
    "\n",
    "df_schema.printSchema()\n",
    "df_schema.show(5)\n"
   ]
  },
  {
   "cell_type": "code",
   "execution_count": 21,
   "metadata": {},
   "outputs": [
    {
     "output_type": "execute_result",
     "data": {
      "text/plain": [
       "237593"
      ]
     },
     "metadata": {},
     "execution_count": 21
    }
   ],
   "source": [
    "#Cuantas filas tiene el dataframe\n",
    "df_schema.count()"
   ]
  },
  {
   "cell_type": "code",
   "execution_count": 22,
   "metadata": {},
   "outputs": [],
   "source": [
    "#Importar librería para utilizar las funciones\n",
    "from pyspark.sql import functions as pyf"
   ]
  },
  {
   "cell_type": "code",
   "execution_count": 23,
   "metadata": {},
   "outputs": [],
   "source": [
    "#Sustituir valores nulos por 0\n",
    "df_schema_Null0 = df_schema.na.fill(0)"
   ]
  },
  {
   "cell_type": "code",
   "execution_count": 24,
   "metadata": {
    "scrolled": true
   },
   "outputs": [
    {
     "output_type": "stream",
     "name": "stdout",
     "text": [
      "+--------------------+---------------------+---------------------+-----------------------+-----------------------+\n|       DESC_DISTRITO|avg(EspanolesHombres)|avg(EspanolesMujeres)|avg(ExtranjerosHombres)|avg(ExtranjerosMujeres)|\n+--------------------+---------------------+---------------------+-----------------------+-----------------------+\n|ARGANZUELA          |    6.072125304820859|    6.953198274244982|     0.7358844494466329|     0.8274244982179704|\n|BARAJAS             |      7.3536503683858|    7.763228399196249|     0.7803081044876088|     0.9561286001339585|\n|CARABANCHEL         |    5.407337454212454|    6.247424450549451|     1.5400641025641026|      1.711080586080586|\n|CENTRO              |    4.915913958469131|   4.9248533382996555|     1.7890865071235682|     1.5495856224974391|\n|CHAMARTIN           |    6.020822905195716|   7.1854039443387725|     0.6085694263690059|     0.8993893282610872|\n|CHAMBERI            |    4.476936966513461|    5.592662508207485|     0.6060407091267236|     0.8163164806303349|\n|CIUDAD LINEAL       |    5.033597312215023|    6.032877369810415|     0.9311255099592033|     1.1251499880009599|\n|FUENCARRAL-EL PARDO |    6.079003961516695|    6.730447085455574|     0.5669496321448784|     0.7395585738539898|\n|HORTALEZA           |    7.023610637572451|    7.663995908625981|     0.8174224343675418|     1.0334981247869075|\n|LATINA              |   4.7432370001539965|     5.47656691134952|      1.008675119347056|      1.184692777578153|\n|MONCLOA-ARAVACA     |      5.9838497427922|    6.893886828568011|     0.7183873669099174|     0.9496351238186386|\n|MORATALAZ           |    4.531832571227577|    5.384453042560676|     0.5231562903036698|     0.6633837495603236|\n|PUENTE DE VALLECAS  |   5.2675348945862295|    5.902995970332301|     1.3921625883314839|     1.4900426327162297|\n|RETIRO              |    5.390088533793997|    6.409738717339668|     0.4687972360181386|      0.648024184841287|\n|SALAMANCA           |    4.475543041029766|     5.58744971842317|     0.7425583266291231|     1.0061946902654868|\n|SAN BLAS-CANILLEJAS |    5.984469212497716|    6.637584505755527|     0.9854741458066874|      1.120409281929472|\n|TETUAN              |    5.099532629392418|       5.997143846287|     1.2400034620045006|     1.5947723732040853|\n|USERA               |    5.638562311051394|    6.459858918374202|      1.930466912999664|      2.015115888478334|\n|VICALVARO           |   7.0750952701188075|     7.55727415377718|      1.090114324142569|     1.1569154898004932|\n|VILLA DE VALLECAS   |    7.625453971261646|    8.032528027790937|       1.20827411969051|     1.3537028264645508|\n+--------------------+---------------------+---------------------+-----------------------+-----------------------+\nonly showing top 20 rows\n\n"
     ]
    }
   ],
   "source": [
    "#Promedios por dsitrito, ordenados alfabeticamente por columna distrito\n",
    "\n",
    "df_group = df_schema_Null0.groupBy('DESC_DISTRITO') \\\n",
    "    .avg('EspanolesHombres', 'EspanolesMujeres', 'ExtranjerosHombres', 'ExtranjerosMujeres') \\\n",
    "    .orderBy('DESC_DISTRITO')\n",
    "df_group.show()\n"
   ]
  },
  {
   "cell_type": "code",
   "execution_count": 25,
   "metadata": {},
   "outputs": [
    {
     "output_type": "stream",
     "name": "stdout",
     "text": [
      "+----------------+----------------+------------------+------------------+\n|EspanolesHombres|EspanolesMujeres|ExtranjerosHombres|ExtranjerosMujeres|\n+----------------+----------------+------------------+------------------+\n|               5|               0|                 1|                 0|\n|               2|               3|                 0|                 5|\n|               6|               1|                 1|                 0|\n|               2|               0|                 0|                 3|\n|               3|               3|                 0|                 0|\n|               2|               2|                 2|                 1|\n|               2|               1|                 0|                 0|\n|               2|               3|                 1|                 1|\n|               4|               0|                 0|                 1|\n|               2|               4|                 0|                 0|\n|               5|               1|                 0|                 0|\n|               2|               5|                 0|                 0|\n|               4|               1|                 0|                 0|\n|               1|               1|                 0|                 1|\n|               3|               4|                 0|                 0|\n|               3|               4|                 0|                 0|\n|               2|               0|                 0|                 1|\n|               2|               7|                 1|                 0|\n|               5|               2|                 1|                 1|\n|               2|               6|                 1|                 0|\n+----------------+----------------+------------------+------------------+\nonly showing top 20 rows\n\n"
     ]
    }
   ],
   "source": [
    "#Creamos un DF solo con los datos numericos\n",
    "\n",
    "df_num = df_schema_Null0.select('EspanolesHombres', 'EspanolesMujeres', 'ExtranjerosHombres', 'ExtranjerosMujeres')\n",
    "df_num.show()"
   ]
  },
  {
   "cell_type": "code",
   "execution_count": 26,
   "metadata": {},
   "outputs": [
    {
     "output_type": "stream",
     "name": "stdout",
     "text": [
      "+--------------------+---------------------+-----------------------------+---------------------+-----------------------------+\n|       DESC_DISTRITO|max(EspanolesHombres)|stddev_samp(EspanolesHombres)|max(EspanolesMujeres)|stddev_samp(EspanolesMujeres)|\n+--------------------+---------------------+-----------------------------+---------------------+-----------------------------+\n|ARGANZUELA          |                   43|            4.969822973168646|                   40|             5.16527013475927|\n|BARAJAS             |                   48|            6.158284725266348|                   48|            6.433101231132147|\n|CARABANCHEL         |                   56|            4.592413601061038|                   72|            4.789073908318246|\n|CENTRO              |                   30|             4.26672937275971|                   24|           3.5767189286107928|\n|CHAMARTIN           |                   28|           4.1273731518404535|                   37|            4.375229634056856|\n|CHAMBERI            |                   23|            3.216241708430045|                   26|           3.5136182106438065|\n|CIUDAD LINEAL       |                   36|            3.678418208292694|                   36|            4.028264446854447|\n|FUENCARRAL-EL PARDO |                   68|            6.208644765255942|                   69|            6.414516755909314|\n|HORTALEZA           |                  102|            7.352843895070303|                   93|           7.3375073345026705|\n|LATINA              |                   44|           3.7534903091333853|                   47|           4.1121442869013185|\n|MONCLOA-ARAVACA     |                   47|            5.060070119019046|                   43|            5.248239231356103|\n|MORATALAZ           |                   35|            3.718072456004505|                   52|            4.198805703195841|\n|PUENTE DE VALLECAS  |                   41|            4.108826674779194|                   42|            4.268072100206309|\n|RETIRO              |                   39|            3.944294245086966|                   32|            4.241826704107444|\n|SALAMANCA           |                   30|            3.182592864893325|                   29|           3.5477778943240783|\n|SAN BLAS-CANILLEJAS |                   64|             5.64091753538683|                   56|             5.80061036890384|\n|TETUAN              |                   25|            3.729928105166821|                   29|            3.907048915151908|\n|USERA               |                   47|             4.67385665953893|                   61|             4.82936565313424|\n|VICALVARO           |                   64|           7.4633009907239645|                   69|            7.528788045169214|\n|VILLA DE VALLECAS   |                   62|            7.778860602361886|                   57|            7.745714883506981|\n+--------------------+---------------------+-----------------------------+---------------------+-----------------------------+\nonly showing top 20 rows\n\n"
     ]
    }
   ],
   "source": [
    "#Otras agregaciones por distrito\n",
    "\n",
    "df_schema_Null0.groupBy('DESC_DISTRITO') \\\n",
    "    .agg(pyf.max('EspanolesHombres'), pyf.stddev('EspanolesHombres'), \\\n",
    "        pyf.max('EspanolesMujeres'), pyf.stddev('EspanolesMujeres')) \\\n",
    "    .orderBy('DESC_DISTRITO') \\\n",
    "    .show()"
   ]
  },
  {
   "cell_type": "code",
   "execution_count": 27,
   "metadata": {},
   "outputs": [
    {
     "output_type": "stream",
     "name": "stdout",
     "text": [
      "+--------------------+----------------------+----------------------+------------------------+------------------------+\n|       DESC_DISTRITO|Total_EspanolesHombres|Total_EspanolesMujeres|Total_ExtranjerosHombres|Total_ExtranjerosMujeres|\n+--------------------+----------------------+----------------------+------------------------+------------------------+\n|ARGANZUELA          |                 64741|                 74135|                    7846|                    8822|\n|BARAJAS             |                 21958|                 23181|                    2330|                    2855|\n|CARABANCHEL         |                 94477|                109155|                   26908|                   29896|\n|CENTRO              |                 52792|                 52888|                   19213|                   16641|\n|CHAMARTIN           |                 60142|                 71775|                    6079|                    8984|\n|CHAMBERI            |                 54547|                 68141|                    7384|                    9946|\n|CIUDAD LINEAL       |                 83900|                100556|                   15520|                   18754|\n|FUENCARRAL-EL PARDO |                107416|                118927|                   10018|                   13068|\n|HORTALEZA           |                 82401|                 89914|                    9590|                   12125|\n|LATINA              |                 92403|                106689|                   19650|                   23079|\n|MONCLOA-ARAVACA     |                 50019|                 57626|                    6005|                    7938|\n|MORATALAZ           |                 38652|                 45924|                    4462|                    5658|\n|PUENTE DE VALLECAS  |                 90196|                101077|                   23838|                   25514|\n|RETIRO              |                 49923|                 59367|                    4342|                    6002|\n|SALAMANCA           |                 55631|                 69452|                    9230|                   12507|\n|SAN BLAS-CANILLEJAS |                 65506|                 72655|                   10787|                   12264|\n|TETUAN              |                 58920|                 69291|                   14327|                   18426|\n|USERA               |                 50358|                 57693|                   17241|                   17997|\n|VICALVARO           |                 31562|                 33713|                    4863|                    5161|\n|VILLA DE VALLECAS   |                 48292|                 50870|                    7652|                    8573|\n+--------------------+----------------------+----------------------+------------------------+------------------------+\nonly showing top 20 rows\n\n"
     ]
    }
   ],
   "source": [
    "#Mostar el total personas por distrito, ordenado por distrito y renombrar las columnas nuevas\n",
    "\n",
    "df_total = df_schema_Null0.groupBy('DESC_DISTRITO') \\\n",
    "    .sum('EspanolesHombres', 'EspanolesMujeres', 'ExtranjerosHombres', 'ExtranjerosMujeres') \\\n",
    "    .withColumnRenamed('sum(EspanolesHombres)', 'Total_EspanolesHombres') \\\n",
    "    .withColumnRenamed('sum(EspanolesMujeres)', 'Total_EspanolesMujeres') \\\n",
    "    .withColumnRenamed('sum(ExtranjerosHombres)', 'Total_ExtranjerosHombres') \\\n",
    "    .withColumnRenamed('sum(ExtranjerosMujeres)', 'Total_ExtranjerosMujeres') \\\n",
    "    .orderBy('DESC_DISTRITO')\n",
    "\n",
    "df_total.show()\n"
   ]
  },
  {
   "cell_type": "code",
   "execution_count": 35,
   "metadata": {},
   "outputs": [],
   "source": [
    "#Filtrar los datos por distrito Carabanchel\n",
    "\n",
    "#df_total2 = df_total.filter(pyf.col('DESC_DISTRITO') == 'CARABANCHEL')\n",
    "#df_total2.show()"
   ]
  },
  {
   "cell_type": "markdown",
   "metadata": {},
   "source": [
    "### Conclusiones:\n",
    "\n",
    ".- El distrito con mas población es Carabanchel. Tmabién es el que tiene mayor numero de españoles, frente a Barajas que es el que menos.\n",
    "\n",
    ".- En el distrito de Villa de Vallecas es donde viven de promedio mayor numero mujeres españolas frente a Moratalez que es el que menos tiene."
   ]
  },
  {
   "cell_type": "code",
   "execution_count": 16,
   "metadata": {},
   "outputs": [],
   "source": [
    "spark.stop()"
   ]
  }
 ],
 "metadata": {
  "kernelspec": {
   "display_name": "Python 3",
   "language": "python",
   "name": "python3"
  },
  "language_info": {
   "codemirror_mode": {
    "name": "ipython",
    "version": 3
   },
   "file_extension": ".py",
   "mimetype": "text/x-python",
   "name": "python",
   "nbconvert_exporter": "python",
   "pygments_lexer": "ipython3",
   "version": "3.7.9-final"
  }
 },
 "nbformat": 4,
 "nbformat_minor": 4
}