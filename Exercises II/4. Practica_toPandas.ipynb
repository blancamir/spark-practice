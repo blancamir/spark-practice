{
 "cells": [
  {
   "cell_type": "markdown",
   "metadata": {},
   "source": [
    "## Padron Comunidad de Madrid"
   ]
  },
  {
   "cell_type": "code",
   "execution_count": 1,
   "metadata": {},
   "outputs": [],
   "source": [
    "#Create a spark context\n",
    "import findspark\n",
    "findspark.init()\n",
    "\n",
    "import pyspark\n",
    "\n",
    "from pyspark.sql import SparkSession\n",
    "spark = SparkSession.builder.appName(\"CSV to Dataset\").getOrCreate()"
   ]
  },
  {
   "cell_type": "code",
   "execution_count": 2,
   "metadata": {},
   "outputs": [
    {
     "output_type": "execute_result",
     "data": {
      "text/plain": [
       "<pyspark.sql.session.SparkSession at 0x182ae2aca08>"
      ],
      "text/html": "\n            <div>\n                <p><b>SparkSession - in-memory</b></p>\n                \n        <div>\n            <p><b>SparkContext</b></p>\n\n            <p><a href=\"http://DESKTOP-DHHLRED:4040\">Spark UI</a></p>\n\n            <dl>\n              <dt>Version</dt>\n                <dd><code>v3.0.1</code></dd>\n              <dt>Master</dt>\n                <dd><code>local[*]</code></dd>\n              <dt>AppName</dt>\n                <dd><code>CSV to Dataset</code></dd>\n            </dl>\n        </div>\n        \n            </div>\n        "
     },
     "metadata": {},
     "execution_count": 2
    }
   ],
   "source": [
    "spark"
   ]
  },
  {
   "cell_type": "code",
   "execution_count": 3,
   "metadata": {},
   "outputs": [
    {
     "output_type": "stream",
     "name": "stdout",
     "text": [
      "root\n",
      " |-- COD_DISTRITO: integer (nullable = true)\n",
      " |-- DESC_DISTRITO: string (nullable = true)\n",
      " |-- COD_DIST_BARRIO: integer (nullable = true)\n",
      " |-- DESC_BARRIO: string (nullable = true)\n",
      " |-- COD_BARRIO: integer (nullable = true)\n",
      " |-- COD_DIST_SECCION: integer (nullable = true)\n",
      " |-- COD_SECCION: integer (nullable = true)\n",
      " |-- COD_EDAD_INT: integer (nullable = true)\n",
      " |-- EspanolesHombres: integer (nullable = true)\n",
      " |-- EspanolesMujeres: integer (nullable = true)\n",
      " |-- ExtranjerosHombres: integer (nullable = true)\n",
      " |-- ExtranjerosMujeres: integer (nullable = true)\n",
      "\n",
      "+------------+--------------------+---------------+--------------------+----------+----------------+-----------+------------+----------------+----------------+------------------+------------------+\n",
      "|COD_DISTRITO|       DESC_DISTRITO|COD_DIST_BARRIO|         DESC_BARRIO|COD_BARRIO|COD_DIST_SECCION|COD_SECCION|COD_EDAD_INT|EspanolesHombres|EspanolesMujeres|ExtranjerosHombres|ExtranjerosMujeres|\n",
      "+------------+--------------------+---------------+--------------------+----------+----------------+-----------+------------+----------------+----------------+------------------+------------------+\n",
      "|           1|CENTRO              |            101|PALACIO             |         1|            1001|          1|           0|               5|            null|                 1|              null|\n",
      "|           1|CENTRO              |            101|PALACIO             |         1|            1001|          1|           1|               2|               3|              null|                 5|\n",
      "|           1|CENTRO              |            101|PALACIO             |         1|            1001|          1|           2|               6|               1|                 1|              null|\n",
      "|           1|CENTRO              |            101|PALACIO             |         1|            1001|          1|           3|               2|            null|              null|                 3|\n",
      "|           1|CENTRO              |            101|PALACIO             |         1|            1001|          1|           4|               3|               3|              null|              null|\n",
      "+------------+--------------------+---------------+--------------------+----------+----------------+-----------+------------+----------------+----------------+------------------+------------------+\n",
      "only showing top 5 rows\n",
      "\n"
     ]
    }
   ],
   "source": [
    "#Read csv file\n",
    "df = spark.read.options(header=True, delimiter=';', quota='', inferSchema=True) \\\n",
    "    .csv('padron_madrid/Rango_Edades_Seccion_202011.csv')\n",
    "df.printSchema()\n",
    "df.show(5)"
   ]
  },
  {
   "cell_type": "code",
   "execution_count": 4,
   "metadata": {},
   "outputs": [
    {
     "output_type": "execute_result",
     "data": {
      "text/plain": [
       "   COD_DISTRITO         DESC_DISTRITO  COD_DIST_BARRIO           DESC_BARRIO  \\\n",
       "0             1  CENTRO                            101  PALACIO                \n",
       "1             1  CENTRO                            101  PALACIO                \n",
       "2             1  CENTRO                            101  PALACIO                \n",
       "3             1  CENTRO                            101  PALACIO                \n",
       "4             1  CENTRO                            101  PALACIO                \n",
       "\n",
       "   COD_BARRIO  COD_DIST_SECCION  COD_SECCION  COD_EDAD_INT  EspanolesHombres  \\\n",
       "0           1              1001            1             0               5.0   \n",
       "1           1              1001            1             1               2.0   \n",
       "2           1              1001            1             2               6.0   \n",
       "3           1              1001            1             3               2.0   \n",
       "4           1              1001            1             4               3.0   \n",
       "\n",
       "   EspanolesMujeres  ExtranjerosHombres  ExtranjerosMujeres  \n",
       "0               NaN                 1.0                 NaN  \n",
       "1               3.0                 NaN                 5.0  \n",
       "2               1.0                 1.0                 NaN  \n",
       "3               NaN                 NaN                 3.0  \n",
       "4               3.0                 NaN                 NaN  "
      ],
      "text/html": "<div>\n<style scoped>\n    .dataframe tbody tr th:only-of-type {\n        vertical-align: middle;\n    }\n\n    .dataframe tbody tr th {\n        vertical-align: top;\n    }\n\n    .dataframe thead th {\n        text-align: right;\n    }\n</style>\n<table border=\"1\" class=\"dataframe\">\n  <thead>\n    <tr style=\"text-align: right;\">\n      <th></th>\n      <th>COD_DISTRITO</th>\n      <th>DESC_DISTRITO</th>\n      <th>COD_DIST_BARRIO</th>\n      <th>DESC_BARRIO</th>\n      <th>COD_BARRIO</th>\n      <th>COD_DIST_SECCION</th>\n      <th>COD_SECCION</th>\n      <th>COD_EDAD_INT</th>\n      <th>EspanolesHombres</th>\n      <th>EspanolesMujeres</th>\n      <th>ExtranjerosHombres</th>\n      <th>ExtranjerosMujeres</th>\n    </tr>\n  </thead>\n  <tbody>\n    <tr>\n      <th>0</th>\n      <td>1</td>\n      <td>CENTRO</td>\n      <td>101</td>\n      <td>PALACIO</td>\n      <td>1</td>\n      <td>1001</td>\n      <td>1</td>\n      <td>0</td>\n      <td>5.0</td>\n      <td>NaN</td>\n      <td>1.0</td>\n      <td>NaN</td>\n    </tr>\n    <tr>\n      <th>1</th>\n      <td>1</td>\n      <td>CENTRO</td>\n      <td>101</td>\n      <td>PALACIO</td>\n      <td>1</td>\n      <td>1001</td>\n      <td>1</td>\n      <td>1</td>\n      <td>2.0</td>\n      <td>3.0</td>\n      <td>NaN</td>\n      <td>5.0</td>\n    </tr>\n    <tr>\n      <th>2</th>\n      <td>1</td>\n      <td>CENTRO</td>\n      <td>101</td>\n      <td>PALACIO</td>\n      <td>1</td>\n      <td>1001</td>\n      <td>1</td>\n      <td>2</td>\n      <td>6.0</td>\n      <td>1.0</td>\n      <td>1.0</td>\n      <td>NaN</td>\n    </tr>\n    <tr>\n      <th>3</th>\n      <td>1</td>\n      <td>CENTRO</td>\n      <td>101</td>\n      <td>PALACIO</td>\n      <td>1</td>\n      <td>1001</td>\n      <td>1</td>\n      <td>3</td>\n      <td>2.0</td>\n      <td>NaN</td>\n      <td>NaN</td>\n      <td>3.0</td>\n    </tr>\n    <tr>\n      <th>4</th>\n      <td>1</td>\n      <td>CENTRO</td>\n      <td>101</td>\n      <td>PALACIO</td>\n      <td>1</td>\n      <td>1001</td>\n      <td>1</td>\n      <td>4</td>\n      <td>3.0</td>\n      <td>3.0</td>\n      <td>NaN</td>\n      <td>NaN</td>\n    </tr>\n  </tbody>\n</table>\n</div>"
     },
     "metadata": {},
     "execution_count": 4
    }
   ],
   "source": [
    "#Convert pyspark dataframe to pandas\n",
    "df_pandas = df.toPandas()\n",
    "df_pandas.head()"
   ]
  },
  {
   "cell_type": "markdown",
   "metadata": {},
   "source": [
    "### Analysis from pandas df"
   ]
  },
  {
   "cell_type": "code",
   "execution_count": 5,
   "metadata": {},
   "outputs": [],
   "source": [
    "import pandas as pd\n",
    "import numpy as np"
   ]
  },
  {
   "cell_type": "code",
   "execution_count": 6,
   "metadata": {},
   "outputs": [
    {
     "output_type": "stream",
     "name": "stdout",
     "text": [
      "<class 'pandas.core.frame.DataFrame'>\nRangeIndex: 237593 entries, 0 to 237592\nData columns (total 12 columns):\n #   Column              Non-Null Count   Dtype  \n---  ------              --------------   -----  \n 0   COD_DISTRITO        237593 non-null  int32  \n 1   DESC_DISTRITO       237593 non-null  object \n 2   COD_DIST_BARRIO     237593 non-null  int32  \n 3   DESC_BARRIO         237593 non-null  object \n 4   COD_BARRIO          237593 non-null  int32  \n 5   COD_DIST_SECCION    237593 non-null  int32  \n 6   COD_SECCION         237593 non-null  int32  \n 7   COD_EDAD_INT        237593 non-null  int32  \n 8   EspanolesHombres    221278 non-null  float64\n 9   EspanolesMujeres    231725 non-null  float64\n 10  ExtranjerosHombres  104382 non-null  float64\n 11  ExtranjerosMujeres  115391 non-null  float64\ndtypes: float64(4), int32(6), object(2)\nmemory usage: 16.3+ MB\n"
     ]
    }
   ],
   "source": [
    "df_pandas.info()"
   ]
  },
  {
   "cell_type": "code",
   "execution_count": 7,
   "metadata": {},
   "outputs": [],
   "source": [
    "#Replace nan values\n",
    "df_pandas.fillna(0, inplace=True)"
   ]
  },
  {
   "cell_type": "markdown",
   "metadata": {},
   "source": [
    "### Group by district the information and get some metrics"
   ]
  },
  {
   "cell_type": "code",
   "execution_count": 8,
   "metadata": {},
   "outputs": [
    {
     "output_type": "execute_result",
     "data": {
      "text/plain": [
       "                      EspanolesHombres  EspanolesMujeres  ExtranjerosHombres  \\\n",
       "DESC_DISTRITO                                                                  \n",
       "ARGANZUELA                       64741             74135                7846   \n",
       "BARAJAS                          21958             23181                2330   \n",
       "CARABANCHEL                      94477            109155               26908   \n",
       "CENTRO                           52792             52888               19213   \n",
       "CHAMARTIN                        60142             71775                6079   \n",
       "CHAMBERI                         54547             68141                7384   \n",
       "CIUDAD LINEAL                    83900            100556               15520   \n",
       "FUENCARRAL-EL PARDO             107416            118927               10018   \n",
       "HORTALEZA                        82401             89914                9590   \n",
       "LATINA                           92403            106689               19650   \n",
       "MONCLOA-ARAVACA                  50019             57626                6005   \n",
       "MORATALAZ                        38652             45924                4462   \n",
       "PUENTE DE VALLECAS               90196            101077               23838   \n",
       "RETIRO                           49923             59367                4342   \n",
       "SALAMANCA                        55631             69452                9230   \n",
       "SAN BLAS-CANILLEJAS              65506             72655               10787   \n",
       "TETUAN                           58920             69291               14327   \n",
       "USERA                            50358             57693               17241   \n",
       "VICALVARO                        31562             33713                4863   \n",
       "VILLA DE VALLECAS                48292             50870                7652   \n",
       "VILLAVERDE                       57613             63931               16625   \n",
       "\n",
       "                      ExtranjerosMujeres  \n",
       "DESC_DISTRITO                             \n",
       "ARGANZUELA                          8822  \n",
       "BARAJAS                             2855  \n",
       "CARABANCHEL                        29896  \n",
       "CENTRO                             16641  \n",
       "CHAMARTIN                           8984  \n",
       "CHAMBERI                            9946  \n",
       "CIUDAD LINEAL                      18754  \n",
       "FUENCARRAL-EL PARDO                13068  \n",
       "HORTALEZA                          12125  \n",
       "LATINA                             23079  \n",
       "MONCLOA-ARAVACA                     7938  \n",
       "MORATALAZ                           5658  \n",
       "PUENTE DE VALLECAS                 25514  \n",
       "RETIRO                              6002  \n",
       "SALAMANCA                          12507  \n",
       "SAN BLAS-CANILLEJAS                12264  \n",
       "TETUAN                             18426  \n",
       "USERA                              17997  \n",
       "VICALVARO                           5161  \n",
       "VILLA DE VALLECAS                   8573  \n",
       "VILLAVERDE                         17422  "
      ],
      "text/html": "<div>\n<style scoped>\n    .dataframe tbody tr th:only-of-type {\n        vertical-align: middle;\n    }\n\n    .dataframe tbody tr th {\n        vertical-align: top;\n    }\n\n    .dataframe thead th {\n        text-align: right;\n    }\n</style>\n<table border=\"1\" class=\"dataframe\">\n  <thead>\n    <tr style=\"text-align: right;\">\n      <th></th>\n      <th>EspanolesHombres</th>\n      <th>EspanolesMujeres</th>\n      <th>ExtranjerosHombres</th>\n      <th>ExtranjerosMujeres</th>\n    </tr>\n    <tr>\n      <th>DESC_DISTRITO</th>\n      <th></th>\n      <th></th>\n      <th></th>\n      <th></th>\n    </tr>\n  </thead>\n  <tbody>\n    <tr>\n      <th>ARGANZUELA</th>\n      <td>64741</td>\n      <td>74135</td>\n      <td>7846</td>\n      <td>8822</td>\n    </tr>\n    <tr>\n      <th>BARAJAS</th>\n      <td>21958</td>\n      <td>23181</td>\n      <td>2330</td>\n      <td>2855</td>\n    </tr>\n    <tr>\n      <th>CARABANCHEL</th>\n      <td>94477</td>\n      <td>109155</td>\n      <td>26908</td>\n      <td>29896</td>\n    </tr>\n    <tr>\n      <th>CENTRO</th>\n      <td>52792</td>\n      <td>52888</td>\n      <td>19213</td>\n      <td>16641</td>\n    </tr>\n    <tr>\n      <th>CHAMARTIN</th>\n      <td>60142</td>\n      <td>71775</td>\n      <td>6079</td>\n      <td>8984</td>\n    </tr>\n    <tr>\n      <th>CHAMBERI</th>\n      <td>54547</td>\n      <td>68141</td>\n      <td>7384</td>\n      <td>9946</td>\n    </tr>\n    <tr>\n      <th>CIUDAD LINEAL</th>\n      <td>83900</td>\n      <td>100556</td>\n      <td>15520</td>\n      <td>18754</td>\n    </tr>\n    <tr>\n      <th>FUENCARRAL-EL PARDO</th>\n      <td>107416</td>\n      <td>118927</td>\n      <td>10018</td>\n      <td>13068</td>\n    </tr>\n    <tr>\n      <th>HORTALEZA</th>\n      <td>82401</td>\n      <td>89914</td>\n      <td>9590</td>\n      <td>12125</td>\n    </tr>\n    <tr>\n      <th>LATINA</th>\n      <td>92403</td>\n      <td>106689</td>\n      <td>19650</td>\n      <td>23079</td>\n    </tr>\n    <tr>\n      <th>MONCLOA-ARAVACA</th>\n      <td>50019</td>\n      <td>57626</td>\n      <td>6005</td>\n      <td>7938</td>\n    </tr>\n    <tr>\n      <th>MORATALAZ</th>\n      <td>38652</td>\n      <td>45924</td>\n      <td>4462</td>\n      <td>5658</td>\n    </tr>\n    <tr>\n      <th>PUENTE DE VALLECAS</th>\n      <td>90196</td>\n      <td>101077</td>\n      <td>23838</td>\n      <td>25514</td>\n    </tr>\n    <tr>\n      <th>RETIRO</th>\n      <td>49923</td>\n      <td>59367</td>\n      <td>4342</td>\n      <td>6002</td>\n    </tr>\n    <tr>\n      <th>SALAMANCA</th>\n      <td>55631</td>\n      <td>69452</td>\n      <td>9230</td>\n      <td>12507</td>\n    </tr>\n    <tr>\n      <th>SAN BLAS-CANILLEJAS</th>\n      <td>65506</td>\n      <td>72655</td>\n      <td>10787</td>\n      <td>12264</td>\n    </tr>\n    <tr>\n      <th>TETUAN</th>\n      <td>58920</td>\n      <td>69291</td>\n      <td>14327</td>\n      <td>18426</td>\n    </tr>\n    <tr>\n      <th>USERA</th>\n      <td>50358</td>\n      <td>57693</td>\n      <td>17241</td>\n      <td>17997</td>\n    </tr>\n    <tr>\n      <th>VICALVARO</th>\n      <td>31562</td>\n      <td>33713</td>\n      <td>4863</td>\n      <td>5161</td>\n    </tr>\n    <tr>\n      <th>VILLA DE VALLECAS</th>\n      <td>48292</td>\n      <td>50870</td>\n      <td>7652</td>\n      <td>8573</td>\n    </tr>\n    <tr>\n      <th>VILLAVERDE</th>\n      <td>57613</td>\n      <td>63931</td>\n      <td>16625</td>\n      <td>17422</td>\n    </tr>\n  </tbody>\n</table>\n</div>"
     },
     "metadata": {},
     "execution_count": 8
    }
   ],
   "source": [
    "#Group by district and for checking the metrics, transform float numbers to integer\n",
    "\n",
    "cols = ['EspanolesHombres', 'EspanolesMujeres', 'ExtranjerosHombres', 'ExtranjerosMujeres']\n",
    "df_distrito = df_pandas.groupby('DESC_DISTRITO')[cols].sum().astype(np.int32)\n",
    "df_distrito"
   ]
  },
  {
   "cell_type": "code",
   "execution_count": 9,
   "metadata": {},
   "outputs": [
    {
     "output_type": "stream",
     "name": "stdout",
     "text": [
      "<class 'pandas.core.frame.DataFrame'>\nIndex: 21 entries, ARGANZUELA           to VILLAVERDE          \nData columns (total 4 columns):\n #   Column              Non-Null Count  Dtype\n---  ------              --------------  -----\n 0   EspanolesHombres    21 non-null     int32\n 1   EspanolesMujeres    21 non-null     int32\n 2   ExtranjerosHombres  21 non-null     int32\n 3   ExtranjerosMujeres  21 non-null     int32\ndtypes: int32(4)\nmemory usage: 504.0+ bytes\nNone\n"
     ]
    }
   ],
   "source": [
    "print(df_distrito.info())"
   ]
  },
  {
   "cell_type": "code",
   "execution_count": 10,
   "metadata": {},
   "outputs": [
    {
     "output_type": "execute_result",
     "data": {
      "text/plain": [
       "      EspanolesHombres  EspanolesMujeres  ExtranjerosHombres  \\\n",
       "sum            1311449           1496960              243910   \n",
       "mean             62449             71283               11614   \n",
       "\n",
       "      ExtranjerosMujeres  \n",
       "sum               281632  \n",
       "mean               13411  "
      ],
      "text/html": "<div>\n<style scoped>\n    .dataframe tbody tr th:only-of-type {\n        vertical-align: middle;\n    }\n\n    .dataframe tbody tr th {\n        vertical-align: top;\n    }\n\n    .dataframe thead th {\n        text-align: right;\n    }\n</style>\n<table border=\"1\" class=\"dataframe\">\n  <thead>\n    <tr style=\"text-align: right;\">\n      <th></th>\n      <th>EspanolesHombres</th>\n      <th>EspanolesMujeres</th>\n      <th>ExtranjerosHombres</th>\n      <th>ExtranjerosMujeres</th>\n    </tr>\n  </thead>\n  <tbody>\n    <tr>\n      <th>sum</th>\n      <td>1311449</td>\n      <td>1496960</td>\n      <td>243910</td>\n      <td>281632</td>\n    </tr>\n    <tr>\n      <th>mean</th>\n      <td>62449</td>\n      <td>71283</td>\n      <td>11614</td>\n      <td>13411</td>\n    </tr>\n  </tbody>\n</table>\n</div>"
     },
     "metadata": {},
     "execution_count": 10
    }
   ],
   "source": [
    "df_distrito.agg([np.sum, np.mean]).astype(np.int32)\n"
   ]
  },
  {
   "cell_type": "code",
   "execution_count": 11,
   "metadata": {},
   "outputs": [
    {
     "output_type": "execute_result",
     "data": {
      "text/plain": [
       "       EspanolesHombres  EspanolesMujeres  ExtranjerosHombres  \\\n",
       "count         21.000000         21.000000           21.000000   \n",
       "mean       62449.952381      71283.809524        11614.761905   \n",
       "std        21964.720719      25266.259811         6869.291622   \n",
       "min        21958.000000      23181.000000         2330.000000   \n",
       "25%        50019.000000      57626.000000         6079.000000   \n",
       "50%        57613.000000      69291.000000         9590.000000   \n",
       "75%        82401.000000      89914.000000        16625.000000   \n",
       "max       107416.000000     118927.000000        26908.000000   \n",
       "\n",
       "       ExtranjerosMujeres  \n",
       "count           21.000000  \n",
       "mean         13411.047619  \n",
       "std           7132.250672  \n",
       "min           2855.000000  \n",
       "25%           8573.000000  \n",
       "50%          12264.000000  \n",
       "75%          17997.000000  \n",
       "max          29896.000000  "
      ],
      "text/html": "<div>\n<style scoped>\n    .dataframe tbody tr th:only-of-type {\n        vertical-align: middle;\n    }\n\n    .dataframe tbody tr th {\n        vertical-align: top;\n    }\n\n    .dataframe thead th {\n        text-align: right;\n    }\n</style>\n<table border=\"1\" class=\"dataframe\">\n  <thead>\n    <tr style=\"text-align: right;\">\n      <th></th>\n      <th>EspanolesHombres</th>\n      <th>EspanolesMujeres</th>\n      <th>ExtranjerosHombres</th>\n      <th>ExtranjerosMujeres</th>\n    </tr>\n  </thead>\n  <tbody>\n    <tr>\n      <th>count</th>\n      <td>21.000000</td>\n      <td>21.000000</td>\n      <td>21.000000</td>\n      <td>21.000000</td>\n    </tr>\n    <tr>\n      <th>mean</th>\n      <td>62449.952381</td>\n      <td>71283.809524</td>\n      <td>11614.761905</td>\n      <td>13411.047619</td>\n    </tr>\n    <tr>\n      <th>std</th>\n      <td>21964.720719</td>\n      <td>25266.259811</td>\n      <td>6869.291622</td>\n      <td>7132.250672</td>\n    </tr>\n    <tr>\n      <th>min</th>\n      <td>21958.000000</td>\n      <td>23181.000000</td>\n      <td>2330.000000</td>\n      <td>2855.000000</td>\n    </tr>\n    <tr>\n      <th>25%</th>\n      <td>50019.000000</td>\n      <td>57626.000000</td>\n      <td>6079.000000</td>\n      <td>8573.000000</td>\n    </tr>\n    <tr>\n      <th>50%</th>\n      <td>57613.000000</td>\n      <td>69291.000000</td>\n      <td>9590.000000</td>\n      <td>12264.000000</td>\n    </tr>\n    <tr>\n      <th>75%</th>\n      <td>82401.000000</td>\n      <td>89914.000000</td>\n      <td>16625.000000</td>\n      <td>17997.000000</td>\n    </tr>\n    <tr>\n      <th>max</th>\n      <td>107416.000000</td>\n      <td>118927.000000</td>\n      <td>26908.000000</td>\n      <td>29896.000000</td>\n    </tr>\n  </tbody>\n</table>\n</div>"
     },
     "metadata": {},
     "execution_count": 11
    }
   ],
   "source": [
    "df_distrito.describe()"
   ]
  },
  {
   "cell_type": "code",
   "execution_count": 12,
   "metadata": {},
   "outputs": [],
   "source": [
    "#New columns for total españoles and total extranjeros\n",
    "\n",
    "df_distrito['Total_espanoles'] = df_distrito[['EspanolesHombres', 'EspanolesMujeres']].sum(axis=1)\n",
    "df_distrito['Total_extranjeros'] = df_distrito[['ExtranjerosHombres', 'ExtranjerosMujeres']].sum(axis=1)"
   ]
  },
  {
   "cell_type": "code",
   "execution_count": 13,
   "metadata": {},
   "outputs": [
    {
     "output_type": "execute_result",
     "data": {
      "text/plain": [
       "                      EspanolesHombres  EspanolesMujeres  ExtranjerosHombres  \\\n",
       "DESC_DISTRITO                                                                  \n",
       "ARGANZUELA                       64741             74135                7846   \n",
       "BARAJAS                          21958             23181                2330   \n",
       "CARABANCHEL                      94477            109155               26908   \n",
       "CENTRO                           52792             52888               19213   \n",
       "CHAMARTIN                        60142             71775                6079   \n",
       "CHAMBERI                         54547             68141                7384   \n",
       "CIUDAD LINEAL                    83900            100556               15520   \n",
       "FUENCARRAL-EL PARDO             107416            118927               10018   \n",
       "HORTALEZA                        82401             89914                9590   \n",
       "LATINA                           92403            106689               19650   \n",
       "MONCLOA-ARAVACA                  50019             57626                6005   \n",
       "MORATALAZ                        38652             45924                4462   \n",
       "PUENTE DE VALLECAS               90196            101077               23838   \n",
       "RETIRO                           49923             59367                4342   \n",
       "SALAMANCA                        55631             69452                9230   \n",
       "SAN BLAS-CANILLEJAS              65506             72655               10787   \n",
       "TETUAN                           58920             69291               14327   \n",
       "USERA                            50358             57693               17241   \n",
       "VICALVARO                        31562             33713                4863   \n",
       "VILLA DE VALLECAS                48292             50870                7652   \n",
       "VILLAVERDE                       57613             63931               16625   \n",
       "\n",
       "                      ExtranjerosMujeres  Total_espanoles  Total_extranjeros  \n",
       "DESC_DISTRITO                                                                 \n",
       "ARGANZUELA                          8822           138876              16668  \n",
       "BARAJAS                             2855            45139               5185  \n",
       "CARABANCHEL                        29896           203632              56804  \n",
       "CENTRO                             16641           105680              35854  \n",
       "CHAMARTIN                           8984           131917              15063  \n",
       "CHAMBERI                            9946           122688              17330  \n",
       "CIUDAD LINEAL                      18754           184456              34274  \n",
       "FUENCARRAL-EL PARDO                13068           226343              23086  \n",
       "HORTALEZA                          12125           172315              21715  \n",
       "LATINA                             23079           199092              42729  \n",
       "MONCLOA-ARAVACA                     7938           107645              13943  \n",
       "MORATALAZ                           5658            84576              10120  \n",
       "PUENTE DE VALLECAS                 25514           191273              49352  \n",
       "RETIRO                              6002           109290              10344  \n",
       "SALAMANCA                          12507           125083              21737  \n",
       "SAN BLAS-CANILLEJAS                12264           138161              23051  \n",
       "TETUAN                             18426           128211              32753  \n",
       "USERA                              17997           108051              35238  \n",
       "VICALVARO                           5161            65275              10024  \n",
       "VILLA DE VALLECAS                   8573            99162              16225  \n",
       "VILLAVERDE                         17422           121544              34047  "
      ],
      "text/html": "<div>\n<style scoped>\n    .dataframe tbody tr th:only-of-type {\n        vertical-align: middle;\n    }\n\n    .dataframe tbody tr th {\n        vertical-align: top;\n    }\n\n    .dataframe thead th {\n        text-align: right;\n    }\n</style>\n<table border=\"1\" class=\"dataframe\">\n  <thead>\n    <tr style=\"text-align: right;\">\n      <th></th>\n      <th>EspanolesHombres</th>\n      <th>EspanolesMujeres</th>\n      <th>ExtranjerosHombres</th>\n      <th>ExtranjerosMujeres</th>\n      <th>Total_espanoles</th>\n      <th>Total_extranjeros</th>\n    </tr>\n    <tr>\n      <th>DESC_DISTRITO</th>\n      <th></th>\n      <th></th>\n      <th></th>\n      <th></th>\n      <th></th>\n      <th></th>\n    </tr>\n  </thead>\n  <tbody>\n    <tr>\n      <th>ARGANZUELA</th>\n      <td>64741</td>\n      <td>74135</td>\n      <td>7846</td>\n      <td>8822</td>\n      <td>138876</td>\n      <td>16668</td>\n    </tr>\n    <tr>\n      <th>BARAJAS</th>\n      <td>21958</td>\n      <td>23181</td>\n      <td>2330</td>\n      <td>2855</td>\n      <td>45139</td>\n      <td>5185</td>\n    </tr>\n    <tr>\n      <th>CARABANCHEL</th>\n      <td>94477</td>\n      <td>109155</td>\n      <td>26908</td>\n      <td>29896</td>\n      <td>203632</td>\n      <td>56804</td>\n    </tr>\n    <tr>\n      <th>CENTRO</th>\n      <td>52792</td>\n      <td>52888</td>\n      <td>19213</td>\n      <td>16641</td>\n      <td>105680</td>\n      <td>35854</td>\n    </tr>\n    <tr>\n      <th>CHAMARTIN</th>\n      <td>60142</td>\n      <td>71775</td>\n      <td>6079</td>\n      <td>8984</td>\n      <td>131917</td>\n      <td>15063</td>\n    </tr>\n    <tr>\n      <th>CHAMBERI</th>\n      <td>54547</td>\n      <td>68141</td>\n      <td>7384</td>\n      <td>9946</td>\n      <td>122688</td>\n      <td>17330</td>\n    </tr>\n    <tr>\n      <th>CIUDAD LINEAL</th>\n      <td>83900</td>\n      <td>100556</td>\n      <td>15520</td>\n      <td>18754</td>\n      <td>184456</td>\n      <td>34274</td>\n    </tr>\n    <tr>\n      <th>FUENCARRAL-EL PARDO</th>\n      <td>107416</td>\n      <td>118927</td>\n      <td>10018</td>\n      <td>13068</td>\n      <td>226343</td>\n      <td>23086</td>\n    </tr>\n    <tr>\n      <th>HORTALEZA</th>\n      <td>82401</td>\n      <td>89914</td>\n      <td>9590</td>\n      <td>12125</td>\n      <td>172315</td>\n      <td>21715</td>\n    </tr>\n    <tr>\n      <th>LATINA</th>\n      <td>92403</td>\n      <td>106689</td>\n      <td>19650</td>\n      <td>23079</td>\n      <td>199092</td>\n      <td>42729</td>\n    </tr>\n    <tr>\n      <th>MONCLOA-ARAVACA</th>\n      <td>50019</td>\n      <td>57626</td>\n      <td>6005</td>\n      <td>7938</td>\n      <td>107645</td>\n      <td>13943</td>\n    </tr>\n    <tr>\n      <th>MORATALAZ</th>\n      <td>38652</td>\n      <td>45924</td>\n      <td>4462</td>\n      <td>5658</td>\n      <td>84576</td>\n      <td>10120</td>\n    </tr>\n    <tr>\n      <th>PUENTE DE VALLECAS</th>\n      <td>90196</td>\n      <td>101077</td>\n      <td>23838</td>\n      <td>25514</td>\n      <td>191273</td>\n      <td>49352</td>\n    </tr>\n    <tr>\n      <th>RETIRO</th>\n      <td>49923</td>\n      <td>59367</td>\n      <td>4342</td>\n      <td>6002</td>\n      <td>109290</td>\n      <td>10344</td>\n    </tr>\n    <tr>\n      <th>SALAMANCA</th>\n      <td>55631</td>\n      <td>69452</td>\n      <td>9230</td>\n      <td>12507</td>\n      <td>125083</td>\n      <td>21737</td>\n    </tr>\n    <tr>\n      <th>SAN BLAS-CANILLEJAS</th>\n      <td>65506</td>\n      <td>72655</td>\n      <td>10787</td>\n      <td>12264</td>\n      <td>138161</td>\n      <td>23051</td>\n    </tr>\n    <tr>\n      <th>TETUAN</th>\n      <td>58920</td>\n      <td>69291</td>\n      <td>14327</td>\n      <td>18426</td>\n      <td>128211</td>\n      <td>32753</td>\n    </tr>\n    <tr>\n      <th>USERA</th>\n      <td>50358</td>\n      <td>57693</td>\n      <td>17241</td>\n      <td>17997</td>\n      <td>108051</td>\n      <td>35238</td>\n    </tr>\n    <tr>\n      <th>VICALVARO</th>\n      <td>31562</td>\n      <td>33713</td>\n      <td>4863</td>\n      <td>5161</td>\n      <td>65275</td>\n      <td>10024</td>\n    </tr>\n    <tr>\n      <th>VILLA DE VALLECAS</th>\n      <td>48292</td>\n      <td>50870</td>\n      <td>7652</td>\n      <td>8573</td>\n      <td>99162</td>\n      <td>16225</td>\n    </tr>\n    <tr>\n      <th>VILLAVERDE</th>\n      <td>57613</td>\n      <td>63931</td>\n      <td>16625</td>\n      <td>17422</td>\n      <td>121544</td>\n      <td>34047</td>\n    </tr>\n  </tbody>\n</table>\n</div>"
     },
     "metadata": {},
     "execution_count": 13
    }
   ],
   "source": [
    "df_distrito"
   ]
  },
  {
   "cell_type": "code",
   "execution_count": 14,
   "metadata": {},
   "outputs": [
    {
     "output_type": "execute_result",
     "data": {
      "text/plain": [
       "LATINA                  0.081993\n",
       "FUENCARRAL-EL PARDO     0.074371\n",
       "CARABANCHEL             0.073538\n",
       "PUENTE DE VALLECAS      0.072069\n",
       "CIUDAD LINEAL           0.070154\n",
       "SALAMANCA               0.052316\n",
       "CHAMBERI                0.051281\n",
       "HORTALEZA               0.049379\n",
       "TETUAN                  0.048629\n",
       "SAN BLAS-CANILLEJAS     0.046070\n",
       "CENTRO                  0.045199\n",
       "ARGANZUELA              0.044875\n",
       "VILLAVERDE              0.042434\n",
       "CHAMARTIN               0.042042\n",
       "RETIRO                  0.038983\n",
       "USERA                   0.037589\n",
       "MORATALAZ               0.035898\n",
       "MONCLOA-ARAVACA         0.035182\n",
       "VILLA DE VALLECAS       0.026655\n",
       "VICALVARO               0.018776\n",
       "BARAJAS                 0.012568\n",
       "Name: DESC_DISTRITO, dtype: float64"
      ]
     },
     "metadata": {},
     "execution_count": 14
    }
   ],
   "source": [
    "#Distrtibution of total population by district\n",
    "df_pandas['DESC_DISTRITO'].value_counts(normalize=True)"
   ]
  },
  {
   "cell_type": "code",
   "execution_count": 15,
   "metadata": {},
   "outputs": [
    {
     "output_type": "execute_result",
     "data": {
      "text/plain": [
       "DESC_DISTRITO\n",
       "CARABANCHEL             56804\n",
       "PUENTE DE VALLECAS      49352\n",
       "LATINA                  42729\n",
       "CENTRO                  35854\n",
       "USERA                   35238\n",
       "CIUDAD LINEAL           34274\n",
       "VILLAVERDE              34047\n",
       "TETUAN                  32753\n",
       "FUENCARRAL-EL PARDO     23086\n",
       "SAN BLAS-CANILLEJAS     23051\n",
       "SALAMANCA               21737\n",
       "HORTALEZA               21715\n",
       "CHAMBERI                17330\n",
       "ARGANZUELA              16668\n",
       "VILLA DE VALLECAS       16225\n",
       "CHAMARTIN               15063\n",
       "MONCLOA-ARAVACA         13943\n",
       "RETIRO                  10344\n",
       "MORATALAZ               10120\n",
       "VICALVARO               10024\n",
       "BARAJAS                  5185\n",
       "Name: Total_extranjeros, dtype: int64"
      ]
     },
     "metadata": {},
     "execution_count": 15
    }
   ],
   "source": [
    "#Number of \"población extranjera\" by district\n",
    "df_distrito['Total_extranjeros'].sort_values(ascending=False)"
   ]
  },
  {
   "cell_type": "markdown",
   "metadata": {},
   "source": [
    ".-Distrito Latina es que mas población agrupa de todos con un 8%.\n",
    "\n",
    ".-Distrito Carabanchel el que tiene mas población extranjera."
   ]
  }
 ],
 "metadata": {
  "kernelspec": {
   "display_name": "Python 3",
   "language": "python",
   "name": "python3"
  },
  "language_info": {
   "codemirror_mode": {
    "name": "ipython",
    "version": 3
   },
   "file_extension": ".py",
   "mimetype": "text/x-python",
   "name": "python",
   "nbconvert_exporter": "python",
   "pygments_lexer": "ipython3",
   "version": "3.7.9-final"
  }
 },
 "nbformat": 4,
 "nbformat_minor": 4
}