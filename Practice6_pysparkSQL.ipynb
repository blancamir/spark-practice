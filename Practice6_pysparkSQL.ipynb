{
 "cells": [
  {
   "cell_type": "markdown",
   "metadata": {},
   "source": [
    "# Práctica pySpark \n",
    "\n",
    "Datos abiertos Comunidad de Madrid - Censo de locales y actividades"
   ]
  },
  {
   "cell_type": "code",
   "execution_count": 2,
   "metadata": {},
   "outputs": [],
   "source": [
    "import pandas as pd\n",
    "import numpy as np\n",
    "\n",
    "\n",
    "import findspark\n",
    "findspark.init()\n",
    "\n",
    "import pyspark\n",
    "\n",
    "#Spark Session\n",
    "from pyspark.sql import SparkSession\n",
    "spark = SparkSession.builder.appName(\"ML_spark\").getOrCreate()"
   ]
  },
  {
   "cell_type": "code",
   "execution_count": 3,
   "metadata": {},
   "outputs": [],
   "source": [
    "import pyspark.sql.functions as pyf"
   ]
  },
  {
   "cell_type": "code",
   "execution_count": 4,
   "metadata": {},
   "outputs": [
    {
     "data": {
      "text/html": [
       "\n",
       "            <div>\n",
       "                <p><b>SparkSession - in-memory</b></p>\n",
       "                \n",
       "        <div>\n",
       "            <p><b>SparkContext</b></p>\n",
       "\n",
       "            <p><a href=\"http://DESKTOP-DHHLRED:4040\">Spark UI</a></p>\n",
       "\n",
       "            <dl>\n",
       "              <dt>Version</dt>\n",
       "                <dd><code>v3.0.1</code></dd>\n",
       "              <dt>Master</dt>\n",
       "                <dd><code>local[*]</code></dd>\n",
       "              <dt>AppName</dt>\n",
       "                <dd><code>ML_spark</code></dd>\n",
       "            </dl>\n",
       "        </div>\n",
       "        \n",
       "            </div>\n",
       "        "
      ],
      "text/plain": [
       "<pyspark.sql.session.SparkSession at 0x21919431688>"
      ]
     },
     "execution_count": 4,
     "metadata": {},
     "output_type": "execute_result"
    }
   ],
   "source": [
    "spark"
   ]
  },
  {
   "cell_type": "markdown",
   "metadata": {},
   "source": [
    "## EDA in Pyspark"
   ]
  },
  {
   "cell_type": "code",
   "execution_count": 5,
   "metadata": {},
   "outputs": [
    {
     "name": "stdout",
     "output_type": "stream",
     "text": [
      "root\n",
      " |-- id_local: string (nullable = true)\n",
      " |-- id_distrito_local: string (nullable = true)\n",
      " |-- desc_distrito_local: string (nullable = true)\n",
      " |-- id_barrio_local: integer (nullable = true)\n",
      " |-- desc_barrio_local: string (nullable = true)\n",
      " |-- cod_barrio_local: integer (nullable = true)\n",
      " |-- id_seccion_censal_local: string (nullable = true)\n",
      " |-- desc_seccion_censal_local: integer (nullable = true)\n",
      " |-- coordenada_x_local: string (nullable = true)\n",
      " |-- coordenada_y_local: string (nullable = true)\n",
      " |-- id_tipo_acceso_local: string (nullable = true)\n",
      " |-- desc_tipo_acceso_local: string (nullable = true)\n",
      " |-- id_situacion_local: string (nullable = true)\n",
      " |-- desc_situacion_local: string (nullable = true)\n",
      " |-- id_vial_edificio: integer (nullable = true)\n",
      " |-- clase_vial_edificio: string (nullable = true)\n",
      " |-- desc_vial_edificio: string (nullable = true)\n",
      " |-- id_ndp_edificio: integer (nullable = true)\n",
      " |-- id_clase_ndp_edificio: integer (nullable = true)\n",
      " |-- nom_edificio: string (nullable = true)\n",
      " |-- num_edificio: integer (nullable = true)\n",
      " |-- cal_edificio: string (nullable = true)\n",
      " |-- secuencial_local_PC: integer (nullable = true)\n",
      " |-- id_vial_acceso: string (nullable = true)\n",
      " |-- clase_vial_acceso: string (nullable = true)\n",
      " |-- desc_vial_acceso: string (nullable = true)\n",
      " |-- id_ndp_acceso: integer (nullable = true)\n",
      " |-- id_clase_ndp_acceso: integer (nullable = true)\n",
      " |-- nom_acceso: string (nullable = true)\n",
      " |-- num_acceso: integer (nullable = true)\n",
      " |-- cal_acceso: string (nullable = true)\n",
      " |-- coordenada_x_agrupacion: string (nullable = true)\n",
      " |-- coordenada_y_agrup: string (nullable = true)\n",
      " |-- id_agrupacion: integer (nullable = true)\n",
      " |-- nombre_agrupacion: string (nullable = true)\n",
      " |-- id_tipo_agrup: integer (nullable = true)\n",
      " |-- desc_tipo_agrup: string (nullable = true)\n",
      " |-- id_planta_agrupado: string (nullable = true)\n",
      " |-- id_local_agrupado: string (nullable = true)\n",
      " |-- rotulo: string (nullable = true)\n",
      " |-- id_seccion: string (nullable = true)\n",
      " |-- desc_seccion: string (nullable = true)\n",
      " |-- id_division: string (nullable = true)\n",
      " |-- desc_division: string (nullable = true)\n",
      " |-- id_epigrafe: string (nullable = true)\n",
      " |-- desc_epigrafe: string (nullable = true)\n",
      "\n"
     ]
    }
   ],
   "source": [
    "#Read csv file without schema\n",
    "\n",
    "df = df = spark.read.options(header=True, delimiter=';', quota='', inferSchema=True) \\\n",
    "    .csv('OPEN DATA locales-Epigrafes202010.csv')\n",
    "\n",
    "df.printSchema()\n"
   ]
  },
  {
   "cell_type": "code",
   "execution_count": 6,
   "metadata": {},
   "outputs": [
    {
     "data": {
      "text/html": [
       "<div>\n",
       "<style scoped>\n",
       "    .dataframe tbody tr th:only-of-type {\n",
       "        vertical-align: middle;\n",
       "    }\n",
       "\n",
       "    .dataframe tbody tr th {\n",
       "        vertical-align: top;\n",
       "    }\n",
       "\n",
       "    .dataframe thead th {\n",
       "        text-align: right;\n",
       "    }\n",
       "</style>\n",
       "<table border=\"1\" class=\"dataframe\">\n",
       "  <thead>\n",
       "    <tr style=\"text-align: right;\">\n",
       "      <th></th>\n",
       "      <th>id_local</th>\n",
       "      <th>id_distrito_local</th>\n",
       "      <th>desc_distrito_local</th>\n",
       "      <th>id_barrio_local</th>\n",
       "      <th>desc_barrio_local</th>\n",
       "      <th>cod_barrio_local</th>\n",
       "      <th>id_seccion_censal_local</th>\n",
       "      <th>desc_seccion_censal_local</th>\n",
       "      <th>coordenada_x_local</th>\n",
       "      <th>coordenada_y_local</th>\n",
       "      <th>...</th>\n",
       "      <th>desc_tipo_agrup</th>\n",
       "      <th>id_planta_agrupado</th>\n",
       "      <th>id_local_agrupado</th>\n",
       "      <th>rotulo</th>\n",
       "      <th>id_seccion</th>\n",
       "      <th>desc_seccion</th>\n",
       "      <th>id_division</th>\n",
       "      <th>desc_division</th>\n",
       "      <th>id_epigrafe</th>\n",
       "      <th>desc_epigrafe</th>\n",
       "    </tr>\n",
       "  </thead>\n",
       "  <tbody>\n",
       "    <tr>\n",
       "      <th>0</th>\n",
       "      <td>285016136</td>\n",
       "      <td>8</td>\n",
       "      <td>FUENCARRAL-EL PARDO</td>\n",
       "      <td>803</td>\n",
       "      <td>PE�A GRANDE</td>\n",
       "      <td>NaN</td>\n",
       "      <td>None</td>\n",
       "      <td>157.0</td>\n",
       "      <td>439038,63</td>\n",
       "      <td>4480515,56</td>\n",
       "      <td>...</td>\n",
       "      <td>None</td>\n",
       "      <td>PB</td>\n",
       "      <td>None</td>\n",
       "      <td>CENTRO DE YOGA IZEL</td>\n",
       "      <td>P</td>\n",
       "      <td>EDUCACI0N</td>\n",
       "      <td>85</td>\n",
       "      <td>EDUCACI0N</td>\n",
       "      <td>855002</td>\n",
       "      <td>ENSE�ANZA NO REGLADA (DEPORTIVA Y RECREATIVA, ...</td>\n",
       "    </tr>\n",
       "    <tr>\n",
       "      <th>1</th>\n",
       "      <td>285016137</td>\n",
       "      <td>8</td>\n",
       "      <td>FUENCARRAL-EL PARDO</td>\n",
       "      <td>806</td>\n",
       "      <td>VALVERDE</td>\n",
       "      <td>NaN</td>\n",
       "      <td>None</td>\n",
       "      <td>153.0</td>\n",
       "      <td>441516,63</td>\n",
       "      <td>4483287,54</td>\n",
       "      <td>...</td>\n",
       "      <td>None</td>\n",
       "      <td>PB</td>\n",
       "      <td>None</td>\n",
       "      <td>SIN ACTIVIDAD</td>\n",
       "      <td>None</td>\n",
       "      <td>None</td>\n",
       "      <td>None</td>\n",
       "      <td>None</td>\n",
       "      <td>None</td>\n",
       "      <td>None</td>\n",
       "    </tr>\n",
       "    <tr>\n",
       "      <th>2</th>\n",
       "      <td>285016140</td>\n",
       "      <td>8</td>\n",
       "      <td>FUENCARRAL-EL PARDO</td>\n",
       "      <td>806</td>\n",
       "      <td>VALVERDE</td>\n",
       "      <td>NaN</td>\n",
       "      <td>None</td>\n",
       "      <td>153.0</td>\n",
       "      <td>441515,63</td>\n",
       "      <td>4483304,54</td>\n",
       "      <td>...</td>\n",
       "      <td>None</td>\n",
       "      <td>PB</td>\n",
       "      <td>None</td>\n",
       "      <td>SIN ACTIVIDAD</td>\n",
       "      <td>None</td>\n",
       "      <td>None</td>\n",
       "      <td>None</td>\n",
       "      <td>None</td>\n",
       "      <td>None</td>\n",
       "      <td>None</td>\n",
       "    </tr>\n",
       "  </tbody>\n",
       "</table>\n",
       "<p>3 rows × 46 columns</p>\n",
       "</div>"
      ],
      "text/plain": [
       "    id_local id_distrito_local   desc_distrito_local  id_barrio_local  \\\n",
       "0  285016136                 8  FUENCARRAL-EL PARDO               803   \n",
       "1  285016137                 8  FUENCARRAL-EL PARDO               806   \n",
       "2  285016140                 8  FUENCARRAL-EL PARDO               806   \n",
       "\n",
       "      desc_barrio_local  cod_barrio_local id_seccion_censal_local  \\\n",
       "0  PE�A GRANDE                        NaN                    None   \n",
       "1  VALVERDE                           NaN                    None   \n",
       "2  VALVERDE                           NaN                    None   \n",
       "\n",
       "   desc_seccion_censal_local coordenada_x_local coordenada_y_local  ...  \\\n",
       "0                      157.0          439038,63         4480515,56  ...   \n",
       "1                      153.0          441516,63         4483287,54  ...   \n",
       "2                      153.0          441515,63         4483304,54  ...   \n",
       "\n",
       "  desc_tipo_agrup id_planta_agrupado id_local_agrupado               rotulo  \\\n",
       "0            None                 PB              None  CENTRO DE YOGA IZEL   \n",
       "1            None                 PB              None        SIN ACTIVIDAD   \n",
       "2            None                 PB              None        SIN ACTIVIDAD   \n",
       "\n",
       "   id_seccion desc_seccion id_division  desc_division  id_epigrafe  \\\n",
       "0           P    EDUCACI0N          85      EDUCACI0N       855002   \n",
       "1        None         None        None           None         None   \n",
       "2        None         None        None           None         None   \n",
       "\n",
       "                                       desc_epigrafe  \n",
       "0  ENSE�ANZA NO REGLADA (DEPORTIVA Y RECREATIVA, ...  \n",
       "1                                               None  \n",
       "2                                               None  \n",
       "\n",
       "[3 rows x 46 columns]"
      ]
     },
     "execution_count": 6,
     "metadata": {},
     "output_type": "execute_result"
    }
   ],
   "source": [
    "df.toPandas().head(3)"
   ]
  },
  {
   "cell_type": "code",
   "execution_count": 7,
   "metadata": {},
   "outputs": [
    {
     "name": "stdout",
     "output_type": "stream",
     "text": [
      "<class 'pandas.core.frame.DataFrame'>\n",
      "RangeIndex: 164445 entries, 0 to 164444\n",
      "Data columns (total 46 columns):\n",
      " #   Column                     Non-Null Count   Dtype  \n",
      "---  ------                     --------------   -----  \n",
      " 0   id_local                   164445 non-null  object \n",
      " 1   id_distrito_local          164445 non-null  object \n",
      " 2   desc_distrito_local        164445 non-null  object \n",
      " 3   id_barrio_local            164445 non-null  int32  \n",
      " 4   desc_barrio_local          164445 non-null  object \n",
      " 5   cod_barrio_local           2 non-null       float64\n",
      " 6   id_seccion_censal_local    2 non-null       object \n",
      " 7   desc_seccion_censal_local  164443 non-null  float64\n",
      " 8   coordenada_x_local         164443 non-null  object \n",
      " 9   coordenada_y_local         164443 non-null  object \n",
      " 10  id_tipo_acceso_local       0 non-null       object \n",
      " 11  desc_tipo_acceso_local     164443 non-null  object \n",
      " 12  id_situacion_local         0 non-null       object \n",
      " 13  desc_situacion_local       164443 non-null  object \n",
      " 14  id_vial_edificio           164443 non-null  float64\n",
      " 15  clase_vial_edificio        164443 non-null  object \n",
      " 16  desc_vial_edificio         164443 non-null  object \n",
      " 17  id_ndp_edificio            164443 non-null  float64\n",
      " 18  id_clase_ndp_edificio      164443 non-null  float64\n",
      " 19  nom_edificio               164443 non-null  object \n",
      " 20  num_edificio               164443 non-null  float64\n",
      " 21  cal_edificio               164443 non-null  object \n",
      " 22  secuencial_local_PC        164443 non-null  float64\n",
      " 23  id_vial_acceso             0 non-null       object \n",
      " 24  clase_vial_acceso          164443 non-null  object \n",
      " 25  desc_vial_acceso           164443 non-null  object \n",
      " 26  id_ndp_acceso              164443 non-null  float64\n",
      " 27  id_clase_ndp_acceso        164443 non-null  float64\n",
      " 28  nom_acceso                 164443 non-null  object \n",
      " 29  num_acceso                 164443 non-null  float64\n",
      " 30  cal_acceso                 164443 non-null  object \n",
      " 31  coordenada_x_agrupacion    15721 non-null   object \n",
      " 32  coordenada_y_agrup         15721 non-null   object \n",
      " 33  id_agrupacion              15721 non-null   float64\n",
      " 34  nombre_agrupacion          15721 non-null   object \n",
      " 35  id_tipo_agrup              15721 non-null   float64\n",
      " 36  desc_tipo_agrup            15721 non-null   object \n",
      " 37  id_planta_agrupado         161532 non-null  object \n",
      " 38  id_local_agrupado          15633 non-null   object \n",
      " 39  rotulo                     164443 non-null  object \n",
      " 40  id_seccion                 123635 non-null  object \n",
      " 41  desc_seccion               123635 non-null  object \n",
      " 42  id_division                123635 non-null  object \n",
      " 43  desc_division              123635 non-null  object \n",
      " 44  id_epigrafe                123635 non-null  object \n",
      " 45  desc_epigrafe              123635 non-null  object \n",
      "dtypes: float64(12), int32(1), object(33)\n",
      "memory usage: 57.1+ MB\n"
     ]
    }
   ],
   "source": [
    "df.toPandas().info()"
   ]
  },
  {
   "cell_type": "markdown",
   "metadata": {},
   "source": [
    "El dataset contiene 46 columnas con 164.444 locales identificados. \n",
    "\n",
    "Vamos a hacer un pequeño análisis de los tipos de locales que hay en la comunidad de Madrid y su distribución por barrios\n"
   ]
  },
  {
   "cell_type": "code",
   "execution_count": 8,
   "metadata": {},
   "outputs": [
    {
     "name": "stdout",
     "output_type": "stream",
     "text": [
      "+---------+--------------------+--------------------+--------------------+-------------------+--------------------+--------------------+\n",
      "| id_local| desc_distrito_local|   desc_barrio_local|desc_situacion_local|             rotulo|       desc_division|       desc_epigrafe|\n",
      "+---------+--------------------+--------------------+--------------------+-------------------+--------------------+--------------------+\n",
      "|285016136|FUENCARRAL-EL PARDO |PE�A GRANDE         |             Abierto|CENTRO DE YOGA IZEL|           EDUCACI0N|ENSE�ANZA NO REGL...|\n",
      "|285016137|FUENCARRAL-EL PARDO |VALVERDE            |             Cerrado|      SIN ACTIVIDAD|                null|                null|\n",
      "|285016140|FUENCARRAL-EL PARDO |VALVERDE            |             Cerrado|      SIN ACTIVIDAD|                null|                null|\n",
      "|285016143|FUENCARRAL-EL PARDO |VALVERDE            |             Cerrado|      SIN ACTIVIDAD|                null|                null|\n",
      "|285016146|FUENCARRAL-EL PARDO |VALVERDE            |             Cerrado|      SIN ACTIVIDAD|                null|                null|\n",
      "|285016149|FUENCARRAL-EL PARDO |VALVERDE            |             Cerrado|      SIN ACTIVIDAD|                null|                null|\n",
      "|285016152|FUENCARRAL-EL PARDO |VALVERDE            |             Cerrado|      SIN ACTIVIDAD|                null|                null|\n",
      "|285016158|FUENCARRAL-EL PARDO |PE�A GRANDE         |             Abierto|            MEZCLAX|OTROS SERVICIOS P...|SERVICIO DE PELUQ...|\n",
      "|285016159|FUENCARRAL-EL PARDO |PE�A GRANDE         |             Cerrado|      SIN ACTIVIDAD|                null|                null|\n",
      "|285016163|FUENCARRAL-EL PARDO |VALVERDE            |             Cerrado|      SIN ACTIVIDAD|                null|                null|\n",
      "+---------+--------------------+--------------------+--------------------+-------------------+--------------------+--------------------+\n",
      "only showing top 10 rows\n",
      "\n"
     ]
    }
   ],
   "source": [
    "#Seleccionamos solo las columnas que vamos a necesitar para el análisis con select()\n",
    "\n",
    "columns = ['id_local', 'desc_distrito_local', 'desc_barrio_local', 'desc_situacion_local', 'rotulo', 'desc_division', 'desc_epigrafe']\n",
    "\n",
    "df = df.select(columns)\n",
    "df.show(10)"
   ]
  },
  {
   "cell_type": "code",
   "execution_count": 9,
   "metadata": {},
   "outputs": [
    {
     "name": "stdout",
     "output_type": "stream",
     "text": [
      "<class 'pandas.core.frame.DataFrame'>\n",
      "RangeIndex: 164445 entries, 0 to 164444\n",
      "Data columns (total 7 columns):\n",
      " #   Column                Non-Null Count   Dtype \n",
      "---  ------                --------------   ----- \n",
      " 0   id_local              164445 non-null  object\n",
      " 1   desc_distrito_local   164445 non-null  object\n",
      " 2   desc_barrio_local     164445 non-null  object\n",
      " 3   desc_situacion_local  164443 non-null  object\n",
      " 4   rotulo                164443 non-null  object\n",
      " 5   desc_division         123635 non-null  object\n",
      " 6   desc_epigrafe         123635 non-null  object\n",
      "dtypes: object(7)\n",
      "memory usage: 8.8+ MB\n"
     ]
    }
   ],
   "source": [
    "#Limpiar los valores nulos que no aportan información con na.drop('any')\n",
    "\n",
    "df.toPandas().info()"
   ]
  },
  {
   "cell_type": "code",
   "execution_count": 10,
   "metadata": {},
   "outputs": [],
   "source": [
    "df = df.na.drop('any')"
   ]
  },
  {
   "cell_type": "code",
   "execution_count": 11,
   "metadata": {},
   "outputs": [
    {
     "name": "stdout",
     "output_type": "stream",
     "text": [
      "+--------+-------------------+-----------------+--------------------+------+-------------+-------------+\n",
      "|id_local|desc_distrito_local|desc_barrio_local|desc_situacion_local|rotulo|desc_division|desc_epigrafe|\n",
      "+--------+-------------------+-----------------+--------------------+------+-------------+-------------+\n",
      "|       0|                  0|                0|                   0|     0|            0|            0|\n",
      "+--------+-------------------+-----------------+--------------------+------+-------------+-------------+\n",
      "\n"
     ]
    }
   ],
   "source": [
    "#Comprobamos si hay Valores null\n",
    "\n",
    "df.select([pyf.count(pyf.when(pyf.isnull(c), c)).alias(c) for c in df.columns]).show()"
   ]
  },
  {
   "cell_type": "code",
   "execution_count": 12,
   "metadata": {},
   "outputs": [
    {
     "name": "stdout",
     "output_type": "stream",
     "text": [
      "+--------------------+\n",
      "| desc_distrito_local|\n",
      "+--------------------+\n",
      "|ARGANZUELA          |\n",
      "|BARAJAS             |\n",
      "|CARABANCHEL         |\n",
      "|CENTRO              |\n",
      "|CHAMARTIN           |\n",
      "|CHAMBERI            |\n",
      "|CIUDAD LINEAL       |\n",
      "|FUENCARRAL-EL PARDO |\n",
      "|HORTALEZA           |\n",
      "|LATINA              |\n",
      "|MONCLOA-ARAVACA     |\n",
      "|MORATALAZ           |\n",
      "|PUENTE DE VALLECAS  |\n",
      "|RETIRO              |\n",
      "|SALAMANCA           |\n",
      "|SAN BLAS-CANILLEJAS |\n",
      "|TETUAN              |\n",
      "|USERA               |\n",
      "|VICALVARO           |\n",
      "|VILLA DE VALLECAS   |\n",
      "+--------------------+\n",
      "only showing top 20 rows\n",
      "\n"
     ]
    }
   ],
   "source": [
    "#Distritos\n",
    "df.select('desc_distrito_local').distinct().orderBy('desc_distrito_local').show()"
   ]
  },
  {
   "cell_type": "code",
   "execution_count": 13,
   "metadata": {},
   "outputs": [
    {
     "name": "stdout",
     "output_type": "stream",
     "text": [
      "+--------------------+-----+\n",
      "| desc_distrito_local|count|\n",
      "+--------------------+-----+\n",
      "|CENTRO              |12443|\n",
      "|CARABANCHEL         | 8881|\n",
      "|SALAMANCA           | 8707|\n",
      "|CIUDAD LINEAL       | 8004|\n",
      "|CHAMBERI            | 7645|\n",
      "|TETUAN              | 7497|\n",
      "|PUENTE DE VALLECAS  | 7095|\n",
      "|LATINA              | 6969|\n",
      "|CHAMARTIN           | 6514|\n",
      "|FUENCARRAL-EL PARDO | 6417|\n",
      "|ARGANZUELA          | 5635|\n",
      "|VILLAVERDE          | 5289|\n",
      "|SAN BLAS-CANILLEJAS | 4939|\n",
      "|HORTALEZA           | 4654|\n",
      "|MONCLOA-ARAVACA     | 4529|\n",
      "|USERA               | 4389|\n",
      "|RETIRO              | 4146|\n",
      "|VILLA DE VALLECAS   | 4070|\n",
      "|MORATALAZ           | 2296|\n",
      "|BARAJAS             | 1823|\n",
      "+--------------------+-----+\n",
      "only showing top 20 rows\n",
      "\n"
     ]
    }
   ],
   "source": [
    "#Numero de locales por distrito\n",
    "\n",
    "df.groupBy('desc_distrito_local').count().orderBy('count', ascending=False).show()"
   ]
  },
  {
   "cell_type": "code",
   "execution_count": 14,
   "metadata": {},
   "outputs": [
    {
     "name": "stdout",
     "output_type": "stream",
     "text": [
      "+--------------------+------+\n",
      "|desc_situacion_local| count|\n",
      "+--------------------+------+\n",
      "|    Baja PC Asociado|    12|\n",
      "|  Baja Reunificacion|  1809|\n",
      "|             Cerrado|  4766|\n",
      "|                Baja|   539|\n",
      "|            En obras|    95|\n",
      "|             Abierto|116342|\n",
      "|        Uso vivienda|    72|\n",
      "+--------------------+------+\n",
      "\n"
     ]
    }
   ],
   "source": [
    "#Situación y tipos de locales\n",
    "\n",
    "df.groupBy('desc_situacion_local').count().show()"
   ]
  },
  {
   "cell_type": "code",
   "execution_count": 21,
   "metadata": {},
   "outputs": [
    {
     "name": "stdout",
     "output_type": "stream",
     "text": [
      "+--------------------+-----+\n",
      "|       desc_division|count|\n",
      "+--------------------+-----+\n",
      "|COMERCIO AL POR M...|43888|\n",
      "|SERVICIOS DE COMI...|20945|\n",
      "|OTROS SERVICIOS P...| 9786|\n",
      "|           EDUCACI0N| 5108|\n",
      "|ACTIVIDADES SANIT...| 3849|\n",
      "|VENTA Y REPARACI0...| 3818|\n",
      "|COMERCIO AL POR M...| 3033|\n",
      "|ALMACENAMIENTO Y ...| 2405|\n",
      "|ACTIVIDADES ADMIN...| 2370|\n",
      "|ACTIVIDADES DE CO...| 2194|\n",
      "|SERVICIOS FINANCI...| 2112|\n",
      "|REPARACI0N DE ORD...| 1935|\n",
      "|ACTIVIDADES DEPOR...| 1904|\n",
      "|ACTIVIDADES ASOCI...| 1887|\n",
      "|       SIN ACTIVIDAD| 1396|\n",
      "|  TELECOMUNICACIONES| 1267|\n",
      "|ACTIVIDADES INMOB...| 1066|\n",
      "|ACTIVIDADES JURID...| 1009|\n",
      "|ACTIVIDADES DE JU...|  888|\n",
      "|PROMOCI0N Y CONST...|  749|\n",
      "+--------------------+-----+\n",
      "only showing top 20 rows\n",
      "\n"
     ]
    }
   ],
   "source": [
    "df.groupBy('desc_division').count().orderBy(pyf.col('count').desc()).show()"
   ]
  },
  {
   "cell_type": "code",
   "execution_count": 22,
   "metadata": {},
   "outputs": [
    {
     "name": "stdout",
     "output_type": "stream",
     "text": [
      "+--------------------+-------+----+----------------+------------------+-------+--------+------------+\n",
      "| desc_distrito_local|Abierto|Baja|Baja PC Asociado|Baja Reunificacion|Cerrado|En obras|Uso vivienda|\n",
      "+--------------------+-------+----+----------------+------------------+-------+--------+------------+\n",
      "|ARGANZUELA          |   5353|  23|            null|               114|    141|       1|           3|\n",
      "|BARAJAS             |   1678|   1|            null|                31|    111|    null|           2|\n",
      "|CARABANCHEL         |   8317|  77|               1|               165|    317|       2|           2|\n",
      "|CENTRO              |  11719|  22|            null|               244|    445|      11|           2|\n",
      "|CHAMARTIN           |   6167|  54|            null|                95|    165|      27|           6|\n",
      "|CHAMBERI            |   7391|  38|               1|                61|    154|    null|        null|\n",
      "|CIUDAD LINEAL       |   7594|  33|               1|                86|    281|       4|           5|\n",
      "|FUENCARRAL-EL PARDO |   6075|  20|            null|                74|    240|       5|           3|\n",
      "|HORTALEZA           |   4344|  18|            null|                98|    172|      17|           5|\n",
      "|LATINA              |   6463|  53|            null|                88|    360|       2|           3|\n",
      "|MONCLOA-ARAVACA     |   4286|  15|               5|                87|    131|       3|           2|\n",
      "|MORATALAZ           |   2125|  11|               2|                38|    119|       1|        null|\n",
      "|PUENTE DE VALLECAS  |   6660|  20|               1|                56|    350|       2|           6|\n",
      "|RETIRO              |   3892|  36|            null|                54|    159|       3|           2|\n",
      "|SALAMANCA           |   8310|  28|            null|               143|    216|       8|           2|\n",
      "|SAN BLAS-CANILLEJAS |   4594|  19|            null|                43|    273|    null|          10|\n",
      "|TETUAN              |   6852|  45|            null|               159|    426|       5|          10|\n",
      "|USERA               |   4231|  10|            null|                27|    115|       2|           4|\n",
      "|VICALVARO           |   1555|   3|               1|                18|    115|    null|           1|\n",
      "|VILLA DE VALLECAS   |   3791|   7|            null|                89|    180|       1|           2|\n",
      "+--------------------+-------+----+----------------+------------------+-------+--------+------------+\n",
      "only showing top 20 rows\n",
      "\n"
     ]
    }
   ],
   "source": [
    "#Locales por distrito y situación\n",
    "\n",
    "pivotdf = df.groupBy('desc_distrito_local').pivot('desc_situacion_local').count().orderBy('desc_distrito_local')\n",
    "pivotdf.show()"
   ]
  },
  {
   "cell_type": "code",
   "execution_count": 68,
   "metadata": {},
   "outputs": [
    {
     "name": "stdout",
     "output_type": "stream",
     "text": [
      "root\n",
      " |-- id_local: string (nullable = true)\n",
      " |-- distrito: string (nullable = true)\n",
      " |-- barrio: string (nullable = true)\n",
      " |-- desc_situacion_local: string (nullable = true)\n",
      " |-- nombre_local: string (nullable = true)\n",
      " |-- desc_division: string (nullable = true)\n",
      " |-- desc_epigrafe: string (nullable = true)\n",
      "\n"
     ]
    }
   ],
   "source": [
    "#Cambiar el nombre de alguna columna\n",
    "\n",
    "df = df.withColumnRenamed('desc_distrito_local', 'distrito') \\\n",
    "        .withColumnRenamed('desc_barrio_local', 'barrio') \\\n",
    "        .withColumnRenamed('rotulo', 'nombre_local')\n",
    "df.printSchema()"
   ]
  },
  {
   "cell_type": "code",
   "execution_count": 76,
   "metadata": {},
   "outputs": [
    {
     "name": "stdout",
     "output_type": "stream",
     "text": [
      "+--------+--------+------+--------------------+------------+-------------+-------------+\n",
      "|id_local|distrito|barrio|desc_situacion_local|nombre_local|desc_division|desc_epigrafe|\n",
      "+--------+--------+------+--------------------+------------+-------------+-------------+\n",
      "+--------+--------+------+--------------------+------------+-------------+-------------+\n",
      "\n"
     ]
    }
   ],
   "source": [
    "#Nuevo dataframe solo con 1 distrito\n",
    "\n",
    "df_retiro = df.filter(df.distrito == \"RETIRO\")\n",
    "df_retiro.show()"
   ]
  },
  {
   "cell_type": "markdown",
   "metadata": {},
   "source": [
    "## Creamos una vista para hacer consultas sql"
   ]
  },
  {
   "cell_type": "code",
   "execution_count": 23,
   "metadata": {},
   "outputs": [],
   "source": [
    "df.createOrReplaceTempView(\"df\")"
   ]
  },
  {
   "cell_type": "code",
   "execution_count": 73,
   "metadata": {},
   "outputs": [
    {
     "name": "stdout",
     "output_type": "stream",
     "text": [
      "+---------+--------------------+--------------------+--------------------+-------------------+--------------------+--------------------+\n",
      "| id_local| desc_distrito_local|   desc_barrio_local|desc_situacion_local|             rotulo|       desc_division|       desc_epigrafe|\n",
      "+---------+--------------------+--------------------+--------------------+-------------------+--------------------+--------------------+\n",
      "|285016136|FUENCARRAL-EL PARDO |PE�A GRANDE         |             Abierto|CENTRO DE YOGA IZEL|           EDUCACI0N|ENSE�ANZA NO REGL...|\n",
      "|285016158|FUENCARRAL-EL PARDO |PE�A GRANDE         |             Abierto|            MEZCLAX|OTROS SERVICIOS P...|SERVICIO DE PELUQ...|\n",
      "|285016171|FUENCARRAL-EL PARDO |VALVERDE            |             Abierto|ROTULO NO INFORMADO|OTRAS INDUSTRIAS ...|FABRICACION DE AR...|\n",
      "+---------+--------------------+--------------------+--------------------+-------------------+--------------------+--------------------+\n",
      "only showing top 3 rows\n",
      "\n"
     ]
    }
   ],
   "source": [
    "#Consulta\n",
    "spark.sql('select * from df').show(3)"
   ]
  },
  {
   "cell_type": "code",
   "execution_count": 74,
   "metadata": {},
   "outputs": [
    {
     "name": "stdout",
     "output_type": "stream",
     "text": [
      "+--------+-------------------+-----------------+--------------------+------+-------------+-------------+\n",
      "|id_local|desc_distrito_local|desc_barrio_local|desc_situacion_local|rotulo|desc_division|desc_epigrafe|\n",
      "+--------+-------------------+-----------------+--------------------+------+-------------+-------------+\n",
      "+--------+-------------------+-----------------+--------------------+------+-------------+-------------+\n",
      "\n"
     ]
    }
   ],
   "source": [
    "#Consulta\n",
    "\n",
    "spark.sql('select * from df where desc_distrito_local = \"RETIRO\"').show()"
   ]
  },
  {
   "cell_type": "code",
   "execution_count": 40,
   "metadata": {},
   "outputs": [
    {
     "name": "stdout",
     "output_type": "stream",
     "text": [
      "+--------------------+--------+\n",
      "| desc_distrito_local|count(1)|\n",
      "+--------------------+--------+\n",
      "|ARGANZUELA          |    5635|\n",
      "|BARAJAS             |    1823|\n",
      "|CARABANCHEL         |    8881|\n",
      "|CENTRO              |   12443|\n",
      "|CHAMARTIN           |    6514|\n",
      "|CHAMBERI            |    7645|\n",
      "|CIUDAD LINEAL       |    8004|\n",
      "|FUENCARRAL-EL PARDO |    6417|\n",
      "|HORTALEZA           |    4654|\n",
      "|LATINA              |    6969|\n",
      "|MONCLOA-ARAVACA     |    4529|\n",
      "|MORATALAZ           |    2296|\n",
      "|PUENTE DE VALLECAS  |    7095|\n",
      "|RETIRO              |    4146|\n",
      "|SALAMANCA           |    8707|\n",
      "|SAN BLAS-CANILLEJAS |    4939|\n",
      "|TETUAN              |    7497|\n",
      "|USERA               |    4389|\n",
      "|VICALVARO           |    1693|\n",
      "|VILLA DE VALLECAS   |    4070|\n",
      "+--------------------+--------+\n",
      "only showing top 20 rows\n",
      "\n"
     ]
    }
   ],
   "source": [
    "#Consulta usando group by\n",
    "\n",
    "spark.sql('SELECT desc_distrito_local, count(*) \\\n",
    "            from df group by desc_distrito_local \\\n",
    "            order by desc_distrito_local').show()"
   ]
  },
  {
   "cell_type": "code",
   "execution_count": null,
   "metadata": {},
   "outputs": [],
   "source": []
  }
 ],
 "metadata": {
  "kernelspec": {
   "display_name": "Python 3",
   "language": "python",
   "name": "python3"
  },
  "language_info": {
   "codemirror_mode": {
    "name": "ipython",
    "version": 3
   },
   "file_extension": ".py",
   "mimetype": "text/x-python",
   "name": "python",
   "nbconvert_exporter": "python",
   "pygments_lexer": "ipython3",
   "version": "3.7.9"
  }
 },
 "nbformat": 4,
 "nbformat_minor": 2
}
