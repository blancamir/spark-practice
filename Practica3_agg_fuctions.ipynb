{
 "cells": [
  {
   "cell_type": "markdown",
   "metadata": {},
   "source": [
    "## Padrón Comunidad de Madrid"
   ]
  },
  {
   "cell_type": "code",
   "execution_count": 1,
   "metadata": {},
   "outputs": [],
   "source": [
    "#First create a spark session and import pyspark library\n",
    "\n",
    "import findspark\n",
    "findspark.init()\n",
    "\n",
    "import pyspark\n",
    "\n",
    "from pyspark.sql import SparkSession\n",
    "spark = SparkSession.builder.appName(\"CSV to parquet\").getOrCreate()"
   ]
  },
  {
   "cell_type": "code",
   "execution_count": 2,
   "metadata": {},
   "outputs": [],
   "source": [
    "#Import fuctions library\n",
    "from pyspark.sql import functions as pyf"
   ]
  },
  {
   "cell_type": "code",
   "execution_count": 3,
   "metadata": {},
   "outputs": [
    {
     "name": "stdout",
     "output_type": "stream",
     "text": [
      "+------------+--------------------+---------------+--------------------+----------+----------------+-----------+------------+----------------+----------------+------------------+------------------+\n",
      "|COD_DISTRITO|       DESC_DISTRITO|COD_DIST_BARRIO|         DESC_BARRIO|COD_BARRIO|COD_DIST_SECCION|COD_SECCION|COD_EDAD_INT|EspanolesHombres|EspanolesMujeres|ExtranjerosHombres|ExtranjerosMujeres|\n",
      "+------------+--------------------+---------------+--------------------+----------+----------------+-----------+------------+----------------+----------------+------------------+------------------+\n",
      "|           1|CENTRO              |            101|PALACIO             |         1|            1001|          1|           0|               5|            null|                 1|              null|\n",
      "|           1|CENTRO              |            101|PALACIO             |         1|            1001|          1|           1|               2|               3|              null|                 5|\n",
      "|           1|CENTRO              |            101|PALACIO             |         1|            1001|          1|           2|               6|               1|                 1|              null|\n",
      "|           1|CENTRO              |            101|PALACIO             |         1|            1001|          1|           3|               2|            null|              null|                 3|\n",
      "|           1|CENTRO              |            101|PALACIO             |         1|            1001|          1|           4|               3|               3|              null|              null|\n",
      "+------------+--------------------+---------------+--------------------+----------+----------------+-----------+------------+----------------+----------------+------------------+------------------+\n",
      "only showing top 5 rows\n",
      "\n"
     ]
    }
   ],
   "source": [
    "#Read csv file without schemas\n",
    "df = spark.read.options(header=True, delimiter=';', inferSchema=True) \\\n",
    "    .csv('padron_madrid/Rango_Edades_Seccion_202011.csv')\n",
    "\n",
    "df.show(5)\n",
    "\n"
   ]
  },
  {
   "cell_type": "code",
   "execution_count": 9,
   "metadata": {},
   "outputs": [
    {
     "name": "stdout",
     "output_type": "stream",
     "text": [
      "root\n",
      " |-- COD_DISTRITO: integer (nullable = true)\n",
      " |-- DESC_DISTRITO: string (nullable = true)\n",
      " |-- COD_DIST_BARRIO: integer (nullable = true)\n",
      " |-- DESC_BARRIO: string (nullable = true)\n",
      " |-- COD_BARRIO: integer (nullable = true)\n",
      " |-- COD_DIST_SECCION: integer (nullable = true)\n",
      " |-- COD_SECCION: integer (nullable = true)\n",
      " |-- COD_EDAD_INT: integer (nullable = true)\n",
      " |-- EspanolesHombres: integer (nullable = true)\n",
      " |-- EspanolesMujeres: integer (nullable = true)\n",
      " |-- ExtranjerosHombres: integer (nullable = true)\n",
      " |-- ExtranjerosMujeres: integer (nullable = true)\n",
      "\n"
     ]
    }
   ],
   "source": [
    "#Replace null values with 0\n",
    "df_ = df.na.fill(0)\n",
    "df_.printSchema()"
   ]
  },
  {
   "cell_type": "code",
   "execution_count": 14,
   "metadata": {},
   "outputs": [
    {
     "name": "stdout",
     "output_type": "stream",
     "text": [
      "+---------------------+---------------------+\n",
      "|max(EspanolesHombres)|min(EspanolesHombres)|\n",
      "+---------------------+---------------------+\n",
      "|102                  |0                    |\n",
      "+---------------------+---------------------+\n",
      "\n"
     ]
    }
   ],
   "source": [
    "#Max y Min fuctions\n",
    "\n",
    "df_.select(pyf.max('EspanolesHombres'), pyf.min('EspanolesHombres')).show(truncate=False)"
   ]
  },
  {
   "cell_type": "code",
   "execution_count": 15,
   "metadata": {},
   "outputs": [
    {
     "name": "stdout",
     "output_type": "stream",
     "text": [
      "+---------------------+---------------------+\n",
      "|max(EspanolesMujeres)|min(EspanolesMujeres)|\n",
      "+---------------------+---------------------+\n",
      "|93                   |0                    |\n",
      "+---------------------+---------------------+\n",
      "\n"
     ]
    }
   ],
   "source": [
    "df_.select(pyf.max('EspanolesMujeres'), pyf.min('EspanolesMujeres')).show(truncate=False)"
   ]
  },
  {
   "cell_type": "code",
   "execution_count": 17,
   "metadata": {},
   "outputs": [
    {
     "name": "stdout",
     "output_type": "stream",
     "text": [
      "+---------------------+---------------------+-----------------------+-----------------------+\n",
      "|avg(EspanolesHombres)|avg(EspanolesMujeres)|avg(ExtranjerosHombres)|avg(ExtranjerosMujeres)|\n",
      "+---------------------+---------------------+-----------------------+-----------------------+\n",
      "|    5.519729116598553|    6.300522321785574|      1.026587483637986|     1.1853547873885173|\n",
      "+---------------------+---------------------+-----------------------+-----------------------+\n",
      "\n"
     ]
    }
   ],
   "source": [
    "#Mean fuction, españoles y extranjeros\n",
    "\n",
    "df_.select(pyf.mean('EspanolesHombres'), pyf.mean('EspanolesMujeres'), \\\n",
    "           pyf.mean('ExtranjerosHombres'), pyf.mean('ExtranjerosMujeres')) \\\n",
    "    .show()"
   ]
  },
  {
   "cell_type": "code",
   "execution_count": 19,
   "metadata": {},
   "outputs": [
    {
     "name": "stdout",
     "output_type": "stream",
     "text": [
      "+---------------------+---------------------+-----------------------+-----------------------+\n",
      "|sum(EspanolesHombres)|sum(EspanolesMujeres)|sum(ExtranjerosHombres)|sum(ExtranjerosMujeres)|\n",
      "+---------------------+---------------------+-----------------------+-----------------------+\n",
      "|              1311449|              1496960|                 243910|                 281632|\n",
      "+---------------------+---------------------+-----------------------+-----------------------+\n",
      "\n"
     ]
    }
   ],
   "source": [
    "#Sum fuction\n",
    "\n",
    "df_.select(pyf.sum('EspanolesHombres'), pyf.sum('EspanolesMujeres'), \\\n",
    "           pyf.sum('ExtranjerosHombres'), pyf.sum('ExtranjerosMujeres')) \\\n",
    "    .show()"
   ]
  },
  {
   "cell_type": "code",
   "execution_count": 22,
   "metadata": {},
   "outputs": [
    {
     "name": "stdout",
     "output_type": "stream",
     "text": [
      "+-----------------------------------------------+---------------------------------------------------+\n",
      "|(sum(EspanolesHombres) + sum(EspanolesMujeres))|(sum(ExtranjerosHombres) + sum(ExtranjerosMujeres))|\n",
      "+-----------------------------------------------+---------------------------------------------------+\n",
      "|                                        2808409|                                             525542|\n",
      "+-----------------------------------------------+---------------------------------------------------+\n",
      "\n"
     ]
    }
   ],
   "source": [
    "#Total population: espanoles y extranjeros\n",
    "\n",
    "df_.select((pyf.sum('EspanolesHombres') + pyf.sum('EspanolesMujeres')), \\\n",
    "           (pyf.sum('ExtranjerosHombres') + pyf.sum('ExtranjerosMujeres'))).show()"
   ]
  },
  {
   "cell_type": "code",
   "execution_count": 28,
   "metadata": {},
   "outputs": [
    {
     "name": "stdout",
     "output_type": "stream",
     "text": [
      "Total population in Madrid: 3333951\n"
     ]
    }
   ],
   "source": [
    "print(\"Total population in Madrid: \" + \\\n",
    "    str(df_.select(pyf.sum('EspanolesHombres') + pyf.sum('EspanolesMujeres') \\\n",
    "           + pyf.sum('ExtranjerosHombres') + pyf.sum('ExtranjerosMujeres')).collect()[0][0]))"
   ]
  },
  {
   "cell_type": "markdown",
   "metadata": {},
   "source": [
    ".- Next steps for the analysis: outliers\n",
    ".- At this point it seems that that max and min are out of range. Is it possible 93 women living at the same place?"
   ]
  }
 ],
 "metadata": {
  "kernelspec": {
   "display_name": "Python 3",
   "language": "python",
   "name": "python3"
  },
  "language_info": {
   "codemirror_mode": {
    "name": "ipython",
    "version": 3
   },
   "file_extension": ".py",
   "mimetype": "text/x-python",
   "name": "python",
   "nbconvert_exporter": "python",
   "pygments_lexer": "ipython3",
   "version": "3.7.7"
  }
 },
 "nbformat": 4,
 "nbformat_minor": 4
}
