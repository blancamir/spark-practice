{
 "metadata": {
  "language_info": {
   "codemirror_mode": {
    "name": "ipython",
    "version": 3
   },
   "file_extension": ".py",
   "mimetype": "text/x-python",
   "name": "python",
   "nbconvert_exporter": "python",
   "pygments_lexer": "ipython3",
   "version": "3.7.9-final"
  },
  "orig_nbformat": 2,
  "kernelspec": {
   "name": "python3",
   "display_name": "Python 3"
  }
 },
 "nbformat": 4,
 "nbformat_minor": 2,
 "cells": [
  {
   "source": [
    "# Basic data preparation"
   ],
   "cell_type": "markdown",
   "metadata": {}
  },
  {
   "source": [
    "Import necesary libraries"
   ],
   "cell_type": "markdown",
   "metadata": {}
  },
  {
   "cell_type": "code",
   "execution_count": 60,
   "metadata": {},
   "outputs": [],
   "source": [
    "import pandas as pd \n",
    "import numpy as nup \n",
    "\n",
    "import findspark\n",
    "findspark.init()\n",
    "\n",
    "import pyspark"
   ]
  },
  {
   "cell_type": "code",
   "execution_count": 61,
   "metadata": {},
   "outputs": [],
   "source": [
    "from pyspark.sql import SparkSession\n",
    "from pyspark.sql import functions as pyf"
   ]
  },
  {
   "source": [
    "Spark session"
   ],
   "cell_type": "markdown",
   "metadata": {}
  },
  {
   "cell_type": "code",
   "execution_count": 62,
   "metadata": {},
   "outputs": [],
   "source": [
    "sc = SparkSession.builder.appName('practica').getOrCreate()"
   ]
  },
  {
   "cell_type": "code",
   "execution_count": 63,
   "metadata": {},
   "outputs": [
    {
     "output_type": "execute_result",
     "data": {
      "text/plain": [
       "<pyspark.sql.session.SparkSession at 0x2fa8cee8788>"
      ],
      "text/html": "\n            <div>\n                <p><b>SparkSession - in-memory</b></p>\n                \n        <div>\n            <p><b>SparkContext</b></p>\n\n            <p><a href=\"http://DESKTOP-DHHLRED:4042\">Spark UI</a></p>\n\n            <dl>\n              <dt>Version</dt>\n                <dd><code>v3.0.1</code></dd>\n              <dt>Master</dt>\n                <dd><code>local[*]</code></dd>\n              <dt>AppName</dt>\n                <dd><code>practica</code></dd>\n            </dl>\n        </div>\n        \n            </div>\n        "
     },
     "metadata": {},
     "execution_count": 63
    }
   ],
   "source": [
    "sc"
   ]
  },
  {
   "source": [
    "Display the data"
   ],
   "cell_type": "markdown",
   "metadata": {}
  },
  {
   "cell_type": "code",
   "execution_count": 76,
   "metadata": {},
   "outputs": [
    {
     "output_type": "stream",
     "name": "stdout",
     "text": [
      "+-----+-------------+----------------------------------+------------+-------------+------------+---------+-----------+----------+------------+--------+---------+----------+\n|ident|category     |name                              |latitude_deg|longitude_deg|elevation_ft|continent|iso_country|iso_region|municipality|gps_code|iata_code|local_code|\n+-----+-------------+----------------------------------+------------+-------------+------------+---------+-----------+----------+------------+--------+---------+----------+\n|00A  |heliport     |Total Rf Heliport                 |40.07080078 |-74.93360138 |11          |NA       |US         |US-PA     |Bensalem    |00A     |null     |00A       |\n|00AK |small_airport|Lowell Field                      |59.94919968 |-151.6959991 |450         |NA       |US         |US-AK     |Anchor Point|00AK    |null     |00AK      |\n|00AL |small_airport|Epps Airpark                      |34.8647995  |-86.77030182 |820         |NA       |US         |US-AL     |Harvest     |00AL    |null     |00AL      |\n|00AR |heliport     |Newport Hospital & Clinic Heliport|35.6086998  |-91.25489807 |237         |NA       |US         |US-AR     |Newport     |00AR    |null     |00AR      |\n|00AZ |small_airport|Cordes Airport                    |34.30559921 |-112.1650009 |3810        |NA       |US         |US-AZ     |Cordes      |00AZ    |null     |00AZ      |\n+-----+-------------+----------------------------------+------------+-------------+------------+---------+-----------+----------+------------+--------+---------+----------+\nonly showing top 5 rows\n\nroot\n |-- ident: string (nullable = true)\n |-- category: string (nullable = true)\n |-- name: string (nullable = true)\n |-- latitude_deg: double (nullable = true)\n |-- longitude_deg: double (nullable = true)\n |-- elevation_ft: integer (nullable = true)\n |-- continent: string (nullable = true)\n |-- iso_country: string (nullable = true)\n |-- iso_region: string (nullable = true)\n |-- municipality: string (nullable = true)\n |-- gps_code: string (nullable = true)\n |-- iata_code: string (nullable = true)\n |-- local_code: string (nullable = true)\n\n"
     ]
    }
   ],
   "source": [
    "#Reading the data\n",
    "df = sc.read.csv('airport_codes.csv', header=True, inferSchema=True)\n",
    "df.show(5, False)\n",
    "df.printSchema()"
   ]
  },
  {
   "cell_type": "code",
   "execution_count": 65,
   "metadata": {},
   "outputs": [
    {
     "output_type": "stream",
     "name": "stdout",
     "text": [
      "Total records in dataset  46235\n"
     ]
    }
   ],
   "source": [
    "print('Total records in dataset ', df.count())"
   ]
  },
  {
   "source": [
    "Study the data"
   ],
   "cell_type": "markdown",
   "metadata": {}
  },
  {
   "cell_type": "code",
   "execution_count": 66,
   "metadata": {},
   "outputs": [
    {
     "output_type": "stream",
     "name": "stdout",
     "text": [
      "+--------------+-----+\n|      category|count|\n+--------------+-----+\n|   balloonport|   17|\n| large_airport|  566|\n| seaplane_base|  909|\n|        closed| 1429|\n|medium_airport| 4531|\n|      heliport| 8985|\n| small_airport|29798|\n+--------------+-----+\n\n"
     ]
    }
   ],
   "source": [
    "#Airports types\n",
    "cat = df.groupBy('category').count().orderBy('count')\n",
    "cat.show()"
   ]
  },
  {
   "cell_type": "code",
   "execution_count": 67,
   "metadata": {},
   "outputs": [
    {
     "output_type": "stream",
     "name": "stdout",
     "text": [
      "There are 7 types of airports\n"
     ]
    }
   ],
   "source": [
    "print('There are', cat.count(), 'types of airports')"
   ]
  },
  {
   "cell_type": "code",
   "execution_count": 68,
   "metadata": {},
   "outputs": [
    {
     "output_type": "stream",
     "name": "stdout",
     "text": [
      "+-----------+-----+\n|iso_country|count|\n+-----------+-----+\n|         US|21487|\n|         BR| 3833|\n|         CA| 2434|\n|         AU| 1879|\n|         RU|  919|\n|         FR|  789|\n|         AR|  710|\n|         CO|  701|\n|         DE|  663|\n|         VE|  592|\n|         PG|  538|\n|         CL|  466|\n|         ID|  461|\n|         GB|  456|\n|         ZA|  443|\n|         IN|  326|\n|         CN|  321|\n|         CD|  267|\n|         KR|  239|\n|         KE|  239|\n+-----------+-----+\nonly showing top 20 rows\n\n"
     ]
    }
   ],
   "source": [
    "\n",
    "country = df.groupBy('iso_country').count().orderBy(pyf.col('count').desc())\n",
    "country.show()"
   ]
  },
  {
   "cell_type": "code",
   "execution_count": 69,
   "metadata": {},
   "outputs": [
    {
     "output_type": "stream",
     "name": "stdout",
     "text": [
      "The dataset contains airports from 244 different countries.\n"
     ]
    }
   ],
   "source": [
    "print('The dataset contains airports from', country.count(), 'different countries.')"
   ]
  },
  {
   "source": [
    "We are going to focus on US airports for this analysis."
   ],
   "cell_type": "markdown",
   "metadata": {}
  },
  {
   "cell_type": "code",
   "execution_count": 70,
   "metadata": {},
   "outputs": [
    {
     "output_type": "stream",
     "name": "stdout",
     "text": [
      "+-----+-------------+--------------------+------------+-------------+------------+---------+-----------+----------+------------+--------+---------+----------+\n|ident|     category|                name|latitude_deg|longitude_deg|elevation_ft|continent|iso_country|iso_region|municipality|gps_code|iata_code|local_code|\n+-----+-------------+--------------------+------------+-------------+------------+---------+-----------+----------+------------+--------+---------+----------+\n|  00A|     heliport|   Total Rf Heliport| 40.07080078| -74.93360138|          11|       NA|         US|     US-PA|    Bensalem|     00A|     null|       00A|\n| 00AK|small_airport|        Lowell Field| 59.94919968| -151.6959991|         450|       NA|         US|     US-AK|Anchor Point|    00AK|     null|      00AK|\n| 00AL|small_airport|        Epps Airpark|  34.8647995| -86.77030182|         820|       NA|         US|     US-AL|     Harvest|    00AL|     null|      00AL|\n| 00AR|     heliport|Newport Hospital ...|  35.6086998| -91.25489807|         237|       NA|         US|     US-AR|     Newport|    00AR|     null|      00AR|\n+-----+-------------+--------------------+------------+-------------+------------+---------+-----------+----------+------------+--------+---------+----------+\nonly showing top 4 rows\n\n"
     ]
    }
   ],
   "source": [
    "#New dataframe with US airports\n",
    "df_us = df.filter(df.iso_country == 'US')\n",
    "df_us.show(4)"
   ]
  },
  {
   "cell_type": "code",
   "execution_count": 71,
   "metadata": {},
   "outputs": [
    {
     "output_type": "stream",
     "name": "stdout",
     "text": [
      "Row count 21487\n"
     ]
    }
   ],
   "source": [
    "print('Row count', df_us.count())"
   ]
  },
  {
   "cell_type": "code",
   "execution_count": 72,
   "metadata": {},
   "outputs": [
    {
     "output_type": "stream",
     "name": "stdout",
     "text": [
      "+----------+---------------------------------------------------+\n|iso_region|name                                               |\n+----------+---------------------------------------------------+\n|US-CT     |Berlin Fairgrounds Heliport                        |\n|US-KY     |Lourdes Hospital Heliport                          |\n|US-WV     |West Virginia Univ. Hosp. Inc. Gnd. Pad #2 Heliport|\n|US-OH     |Green Acres Airport                                |\n|US-IN     |St Vincent Jennings Hospital Heliport              |\n|US-KY     |Blue Lick Airport                                  |\n|US-KY     |Boss Airport                                       |\n|US-PA     |Eagle Field                                        |\n|US-FL     |Joy Farms Airport                                  |\n|US-LA     |Port of Iberia Heliport                            |\n+----------+---------------------------------------------------+\nonly showing top 10 rows\n\n"
     ]
    }
   ],
   "source": [
    "#Select distinct multiple columns. Use trucate=False because we want to see the hole name. \n",
    "df_us.select('iso_region', 'name').distinct().show(10, truncate=False)"
   ]
  },
  {
   "cell_type": "code",
   "execution_count": 73,
   "metadata": {},
   "outputs": [
    {
     "output_type": "stream",
     "name": "stdout",
     "text": [
      "+--------------------------------+-----+\n|name                            |count|\n+--------------------------------+-----+\n|Memorial Hospital Heliport      |20   |\n|Smith Airport                   |11   |\n|Miller Airport                  |11   |\n|Smith Field                     |11   |\n|Hilltop Airport                 |9    |\n|Flying S Ranch Airport          |9    |\n|Anderson Airport                |9    |\n|Johnson Airport                 |9    |\n|Flying H Ranch Airport          |8    |\n|Taylor Airport                  |8    |\n|Good Samaritan Hospital Heliport|8    |\n|Harris Airport                  |7    |\n|Davis Field                     |7    |\n|Providence Hospital Heliport    |7    |\n|St Francis Hospital Heliport    |7    |\n|Green Acres Airport             |7    |\n|St Joseph's Hospital Heliport   |7    |\n|Wilson Airport                  |7    |\n|St Mary's Hospital Heliport     |7    |\n|Mercy Hospital Heliport         |7    |\n+--------------------------------+-----+\nonly showing top 20 rows\n\n"
     ]
    }
   ],
   "source": [
    "#Group by name\n",
    "df_us.groupBy('name').count().orderBy(pyf.col('count').desc()).show(truncate=False)"
   ]
  },
  {
   "cell_type": "code",
   "execution_count": 75,
   "metadata": {},
   "outputs": [
    {
     "output_type": "stream",
     "name": "stdout",
     "text": [
      "+-----+--------+--------------------+------------+-------------+------------+---------+-----------+----------+----------------+--------+---------+----------+\n|ident|category|                name|latitude_deg|longitude_deg|elevation_ft|continent|iso_country|iso_region|    municipality|gps_code|iata_code|local_code|\n+-----+--------+--------------------+------------+-------------+------------+---------+-----------+----------+----------------+--------+---------+----------+\n| 08NH|heliport|Memorial Hospital...| 44.06129837| -71.13580322|         574|       NA|         US|     US-NH|    North Conway|    08NH|     null|      08NH|\n| 19CO|heliport|Memorial Hospital...|  38.8404007| -104.7990036|        6155|       NA|         US|     US-CO|Colorado Springs|    19CO|     null|      19CO|\n| 2PS2|heliport|Memorial Hospital...| 39.96620178| -76.69219971|         410|       NA|         US|     US-PA|            York|    2PS2|     null|      2PS2|\n+-----+--------+--------------------+------------+-------------+------------+---------+-----------+----------+----------------+--------+---------+----------+\nonly showing top 3 rows\n\n"
     ]
    }
   ],
   "source": [
    "#Select the name with most airports\n",
    "df_us.filter(df_us.name == 'Memorial Hospital Heliport').show(3)\n"
   ]
  },
  {
   "cell_type": "code",
   "execution_count": 80,
   "metadata": {},
   "outputs": [
    {
     "output_type": "stream",
     "name": "stdout",
     "text": [
      "+-----+-------------+-----------------+------------+-------------+------------+-----------+----------+------------+--------+----------+\n|ident|     category|             name|latitude_deg|longitude_deg|elevation_ft|iso_country|iso_region|municipality|gps_code|local_code|\n+-----+-------------+-----------------+------------+-------------+------------+-----------+----------+------------+--------+----------+\n|  00A|     heliport|Total Rf Heliport| 40.07080078| -74.93360138|          11|         US|     US-PA|    Bensalem|     00A|       00A|\n| 00AK|small_airport|     Lowell Field| 59.94919968| -151.6959991|         450|         US|     US-AK|Anchor Point|    00AK|      00AK|\n+-----+-------------+-----------------+------------+-------------+------------+-----------+----------+------------+--------+----------+\nonly showing top 2 rows\n\n"
     ]
    }
   ],
   "source": [
    "#Deleted columns with null/nan values\n",
    "\n",
    "df_us = df_us.drop('continent', 'iata_code')\n",
    "df_us.show(2)"
   ]
  },
  {
   "cell_type": "code",
   "execution_count": 81,
   "metadata": {},
   "outputs": [
    {
     "output_type": "stream",
     "name": "stdout",
     "text": [
      "+-----+-------------+-----------------+------------+-------------+------------+-------+----------+------------+--------+----------+\n|ident|     category|             name|latitude_deg|longitude_deg|elevation_ft|country|iso_region|municipality|gps_code|local_code|\n+-----+-------------+-----------------+------------+-------------+------------+-------+----------+------------+--------+----------+\n|  00A|     heliport|Total Rf Heliport| 40.07080078| -74.93360138|          11|     US|     US-PA|    Bensalem|     00A|       00A|\n| 00AK|small_airport|     Lowell Field| 59.94919968| -151.6959991|         450|     US|     US-AK|Anchor Point|    00AK|      00AK|\n+-----+-------------+-----------------+------------+-------------+------------+-------+----------+------------+--------+----------+\nonly showing top 2 rows\n\n"
     ]
    }
   ],
   "source": [
    "#Renaming a column\n",
    "\n",
    "df_us = df_us.withColumnRenamed('iso_country', 'country')\n",
    "df_us.show(2)"
   ]
  },
  {
   "cell_type": "code",
   "execution_count": 82,
   "metadata": {},
   "outputs": [
    {
     "output_type": "stream",
     "name": "stdout",
     "text": [
      "+-------+--------------------+\n",
      "|summary|               ident|\n",
      "+-------+--------------------+\n",
      "|  count|               21487|\n",
      "|   mean|2.3873375337777779E8|\n",
      "| stddev| 9.492375382267495E8|\n",
      "|    min|            0.00E+00|\n",
      "|    max|                seat|\n",
      "+-------+--------------------+\n",
      "\n",
      "+-------+-------------+\n",
      "|summary|     category|\n",
      "+-------+-------------+\n",
      "|  count|        21487|\n",
      "|   mean|         null|\n",
      "| stddev|         null|\n",
      "|    min|  balloonport|\n",
      "|    max|small_airport|\n",
      "+-------+-------------+\n",
      "\n",
      "+-------+--------------------+\n",
      "|summary|                name|\n",
      "+-------+--------------------+\n",
      "|  count|               21487|\n",
      "|   mean|                null|\n",
      "| stddev|                null|\n",
      "|    min|\"Fly \"\"N\"\" K Airp...|\n",
      "|    max|     seattle airport|\n",
      "+-------+--------------------+\n",
      "\n",
      "+-------+------------------+\n",
      "|summary|      latitude_deg|\n",
      "+-------+------------------+\n",
      "|  count|             21487|\n",
      "|   mean|39.111338760574824|\n",
      "| stddev| 6.941944580272601|\n",
      "|    min|      -75.44080353|\n",
      "|    max|           71.3367|\n",
      "+-------+------------------+\n",
      "\n",
      "+-------+-----------------+\n",
      "|summary|    longitude_deg|\n",
      "+-------+-----------------+\n",
      "|  count|            21487|\n",
      "|   mean|-94.8671316711852|\n",
      "| stddev|18.31785019954439|\n",
      "|    min|     -178.2969971|\n",
      "|    max|      179.2591667|\n",
      "+-------+-----------------+\n",
      "\n",
      "+-------+------------------+\n",
      "|summary|      elevation_ft|\n",
      "+-------+------------------+\n",
      "|  count|             21487|\n",
      "|   mean|1145.2215292967842|\n",
      "| stddev|1459.6583433984458|\n",
      "|    min|              -210|\n",
      "|    max|             12442|\n",
      "+-------+------------------+\n",
      "\n",
      "+-------+-------+\n",
      "|summary|country|\n",
      "+-------+-------+\n",
      "|  count|  21487|\n",
      "|   mean|   null|\n",
      "| stddev|   null|\n",
      "|    min|     US|\n",
      "|    max|     US|\n",
      "+-------+-------+\n",
      "\n",
      "+-------+----------+\n",
      "|summary|iso_region|\n",
      "+-------+----------+\n",
      "|  count|     21487|\n",
      "|   mean|      null|\n",
      "| stddev|      null|\n",
      "|    min|     US-AK|\n",
      "|    max|     US-WY|\n",
      "+-------+----------+\n",
      "\n",
      "+-------+------------+\n",
      "|summary|municipality|\n",
      "+-------+------------+\n",
      "|  count|       21405|\n",
      "|   mean|        null|\n",
      "| stddev|        null|\n",
      "|    min|   Abbeville|\n",
      "|    max|      Zwolle|\n",
      "+-------+------------+\n",
      "\n",
      "+-------+--------------------+\n",
      "|summary|            gps_code|\n",
      "+-------+--------------------+\n",
      "|  count|               21166|\n",
      "|   mean|2.2381289547916666E8|\n",
      "| stddev| 9.202980416330018E8|\n",
      "|    min|            0.00E+00|\n",
      "|    max|                 ZNC|\n",
      "+-------+--------------------+\n",
      "\n",
      "+-------+--------------------+\n",
      "|summary|          local_code|\n",
      "+-------+--------------------+\n",
      "|  count|               21185|\n",
      "|   mean|1.0387330299038461E8|\n",
      "| stddev|   6.3161742937611E8|\n",
      "|    min|            0.00E+00|\n",
      "|    max|                 ZZV|\n",
      "+-------+--------------------+\n",
      "\n"
     ]
    }
   ],
   "source": [
    "for i in df_us.columns:\n",
    "    df_us.describe(i).show()"
   ]
  },
  {
   "cell_type": "code",
   "execution_count": null,
   "metadata": {},
   "outputs": [],
   "source": []
  }
 ]
}